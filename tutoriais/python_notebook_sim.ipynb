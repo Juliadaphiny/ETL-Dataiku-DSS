{
 "cells": [
  {
   "cell_type": "markdown",
   "metadata": {},
   "source": [
    "<img src=\"https://github.com/bigdata-icict/ETL-Dataiku-DSS/raw/master/tutoriais/identidade_visual.png\">"
   ]
  },
  {
   "cell_type": "markdown",
   "metadata": {
    "toc-hr-collapsed": false
   },
   "source": [
    "# Sistema de Informações de Mortalidade - SIM"
   ]
  },
  {
   "cell_type": "markdown",
   "metadata": {},
   "source": [
    "Neste notebook, iremos demonstrar como acessar os dados do SIM indexados pela Plataforma de Ciência de Dados aplicada à Saúde (PCDaS) através do Python.\n",
    "\n",
    "Os dados do SIM estão disponíveis em um índice do ElasticSearch (ES), que contém todos os registros individuais das declarações de óbito."
   ]
  },
  {
   "cell_type": "markdown",
   "metadata": {},
   "source": [
    "## Pacotes necessários"
   ]
  },
  {
   "cell_type": "markdown",
   "metadata": {},
   "source": [
    "O acesso ao índice no ES é realizado através do pacote [`elastic`](https://cran.r-project.org/web/packages/elastic/elastic.pdf)."
   ]
  },
  {
   "cell_type": "code",
   "execution_count": 1,
   "metadata": {},
   "outputs": [],
   "source": [
    "from elasticsearch import Elasticsearch, helpers"
   ]
  },
  {
   "cell_type": "markdown",
   "metadata": {},
   "source": [
    "Vamos também utilizar outras bibliotecas do Python para facilitar a manipulação dos dados obtidos."
   ]
  },
  {
   "cell_type": "code",
   "execution_count": 2,
   "metadata": {},
   "outputs": [],
   "source": [
    "#!pip install --user pandasticsearch==0.4.3\n",
    "from pandasticsearch import Select, Agg"
   ]
  },
  {
   "cell_type": "markdown",
   "metadata": {},
   "source": [
    "## Acesso ao ElasticSearch"
   ]
  },
  {
   "cell_type": "markdown",
   "metadata": {},
   "source": [
    "O primeiro passo é informar ao Python os parâmetros de conexão com o índice no ES. Para isso, vamos usar a função `Elasticsearch` da blilioteca `elasticsearch`.\n",
    "\n",
    "Nos parâmetros `es_user` e `es_pwd`, informe o mesmo usuário e senha que você usar para acessar a plataforma.\n",
    "\n",
    "Importante lembrar que esta conexão irá funcionar apenas através de notebooks do `Jupyter` rodando dentro da plataforma."
   ]
  },
  {
   "cell_type": "code",
   "execution_count": 3,
   "metadata": {},
   "outputs": [],
   "source": [
    "es_host = \"dados-pcdas.icict.fiocruz.br\"\n",
    "es_port = \"443\"\n",
    "es_transport_schema  = \"https\"\n",
    "es_user = \"aluno.treinamento\"\n",
    "es_pwd = \"aluno123456\"\n",
    "        \n",
    "# Conexao ao ES\n",
    "es = Elasticsearch(es_transport_schema+'://'+es_user+':'+es_pwd+'@'+es_host+':'+es_port+'/')"
   ]
  },
  {
   "cell_type": "markdown",
   "metadata": {},
   "source": [
    "Podemos testar a conexão pedindo algumas informações básicas sobre o ElasticSearch."
   ]
  },
  {
   "cell_type": "code",
   "execution_count": 4,
   "metadata": {},
   "outputs": [
    {
     "data": {
      "text/plain": [
       "{'name': 'elastic1',\n",
       " 'cluster_name': 'elastic.fiocruz.lncc.br',\n",
       " 'cluster_uuid': 'RCB_nTLkTeGEKgF7osqmDw',\n",
       " 'version': {'number': '6.3.0',\n",
       "  'build_flavor': 'default',\n",
       "  'build_type': 'deb',\n",
       "  'build_hash': '424e937',\n",
       "  'build_date': '2018-06-11T23:38:03.357887Z',\n",
       "  'build_snapshot': False,\n",
       "  'lucene_version': '7.3.1',\n",
       "  'minimum_wire_compatibility_version': '5.6.0',\n",
       "  'minimum_index_compatibility_version': '5.0.0'},\n",
       " 'tagline': 'You Know, for Search'}"
      ]
     },
     "execution_count": 4,
     "metadata": {},
     "output_type": "execute_result"
    }
   ],
   "source": [
    "es.info()"
   ]
  },
  {
   "cell_type": "markdown",
   "metadata": {},
   "source": [
    "Podemos ver acima, por exemplo, que a versão do `ElasticSearch` utilizada atualmente é a 6.3.0."
   ]
  },
  {
   "cell_type": "markdown",
   "metadata": {
    "toc-hr-collapsed": false
   },
   "source": [
    "## Primeiras informações"
   ]
  },
  {
   "cell_type": "markdown",
   "metadata": {},
   "source": [
    "Com os comandos abaixo iremos obter algumas informações básicas do índice do SIM."
   ]
  },
  {
   "cell_type": "markdown",
   "metadata": {},
   "source": [
    "O comando `count` irá dizer quantos registros existem no banco do SIM. No jargão do ElasticSearch, podemos dizer: \"quantos documentos existem no índice\".\n",
    "\n",
    "O argumento `index` define o nome do índice a ser consultado."
   ]
  },
  {
   "cell_type": "code",
   "execution_count": 5,
   "metadata": {},
   "outputs": [
    {
     "data": {
      "text/plain": [
       "{'count': 22366860,\n",
       " '_shards': {'total': 5, 'successful': 5, 'skipped': 0, 'failed': 0}}"
      ]
     },
     "execution_count": 5,
     "metadata": {},
     "output_type": "execute_result"
    }
   ],
   "source": [
    "es.count(index=\"datasus-sim-dss\")"
   ]
  },
  {
   "cell_type": "markdown",
   "metadata": {},
   "source": [
    "O comando `get_mapping` retorna o mapeamento das variáveis, ou seja, quais variáveis existem no índice e seus tipos. Lembrando que as variáveis em letras maiúsculas são originais das declarações de óbito disponibilizadas pelo [DATASUS](http://www2.datasus.gov.br/DATASUS/index.php?area=060701) e as variáveis em letras minúsculas foram geradas pela equipe PCDaS. Não deixe de conferir o [dicionário de dados](https://bigdata-metadados.icict.fiocruz.br/dataset/sistema-de-informacoes-de-mortalidade-sim) do SIM antes de trabalhar com esses dados."
   ]
  },
  {
   "cell_type": "code",
   "execution_count": 6,
   "metadata": {},
   "outputs": [],
   "source": [
    "mapping = es.indices.get_mapping(index = \"datasus-sim-dss\")"
   ]
  },
  {
   "cell_type": "markdown",
   "metadata": {},
   "source": [
    "## Qual é a cara dos dados?"
   ]
  },
  {
   "cell_type": "markdown",
   "metadata": {},
   "source": [
    "Podemos ver alguns documentos (registros) do índice (banco do SIM) com o comando `search`.\n",
    "\n",
    "Além do índice, este comando recebe a definição da consulta que se quer executar. Esta definição é feita utilizando-se o formato [Query DSL](https://www.elastic.co/guide/en/elasticsearch/reference/current/query-dsl.html). O código abaixo define uma consulta que retorna todos os documentos do índice, sem restrições."
   ]
  },
  {
   "cell_type": "code",
   "execution_count": 7,
   "metadata": {},
   "outputs": [],
   "source": [
    "tudo = '{\"query\": {\"match_all\": {}}}'"
   ]
  },
  {
   "cell_type": "markdown",
   "metadata": {},
   "source": [
    "Essa definição de consulta é passada ao comando no argumento `body`. O argumento `size`, por sua vez, define quantos documentos devem ser retornados.\n",
    "Como padrão são retornados os primeiros 10 documentos do índice. Isso já é o bastante para termos uma ideia da cara dos dados. Entretanto, podemos requisitar até os 10.000 primeiros resultados. Vamos ver mais a frente que dificilmente iremos precisar mais do que isso, pois iremos trabalhar com agregações.\n",
    "\n",
    "Com isso, a consulta definida na variável `tudo` pode ser executada com o código abaixo."
   ]
  },
  {
   "cell_type": "code",
   "execution_count": 8,
   "metadata": {},
   "outputs": [],
   "source": [
    "res = es.search(index=\"datasus-sim-dss\", body=tudo, size=10)"
   ]
  },
  {
   "cell_type": "markdown",
   "metadata": {},
   "source": [
    "O resultado da consulta, `res`, é retornado em um formato JSON produzido pelo ES. Este resultado pode ser convertido em um `dataframe`, para facilitar a manipulação dos dados, a execução de análises e produção de gráficos. A seguinte função auxiliar executa essa conversão. O argumento `agg` informa se os resultados estão agregados ou não. Como padrão a função considera que não houve agregação. "
   ]
  },
  {
   "cell_type": "code",
   "execution_count": 9,
   "metadata": {},
   "outputs": [],
   "source": [
    "def to_df(es_res, agg=False):\n",
    "    if(agg):\n",
    "        return Agg.from_dict(es_res).to_pandas()\n",
    "    else:\n",
    "        return Select.from_dict(es_res).to_pandas()"
   ]
  },
  {
   "cell_type": "markdown",
   "metadata": {},
   "source": [
    "O resultado da consulta em formato `dataframe` é obtido com a simples chamada:"
   ]
  },
  {
   "cell_type": "code",
   "execution_count": 10,
   "metadata": {},
   "outputs": [
    {
     "data": {
      "text/html": [
       "<div>\n",
       "<style scoped>\n",
       "    .dataframe tbody tr th:only-of-type {\n",
       "        vertical-align: middle;\n",
       "    }\n",
       "\n",
       "    .dataframe tbody tr th {\n",
       "        vertical-align: top;\n",
       "    }\n",
       "\n",
       "    .dataframe thead th {\n",
       "        text-align: right;\n",
       "    }\n",
       "</style>\n",
       "<table border=\"1\" class=\"dataframe\">\n",
       "  <thead>\n",
       "    <tr style=\"text-align: right;\">\n",
       "      <th></th>\n",
       "      <th>ACIDTRAB</th>\n",
       "      <th>ALTCAUSA</th>\n",
       "      <th>ASSISTMED</th>\n",
       "      <th>ATESTADO</th>\n",
       "      <th>ATESTANTE</th>\n",
       "      <th>CAUSABAS</th>\n",
       "      <th>CAUSABAS_O</th>\n",
       "      <th>CAUSAMAT</th>\n",
       "      <th>CB_PRE</th>\n",
       "      <th>CIRCOBITO</th>\n",
       "      <th>...</th>\n",
       "      <th>res_LATITUDE</th>\n",
       "      <th>res_LONGITUDE</th>\n",
       "      <th>res_MSAUDCOD</th>\n",
       "      <th>res_MUNNOME</th>\n",
       "      <th>res_MUNNOMEX</th>\n",
       "      <th>res_NOME_UF</th>\n",
       "      <th>res_RSAUDCOD</th>\n",
       "      <th>res_SIGLA_UF</th>\n",
       "      <th>res_codigo_adotado</th>\n",
       "      <th>res_coordenadas</th>\n",
       "    </tr>\n",
       "  </thead>\n",
       "  <tbody>\n",
       "    <tr>\n",
       "      <th>0</th>\n",
       "      <td>None</td>\n",
       "      <td>None</td>\n",
       "      <td>1.0</td>\n",
       "      <td>None</td>\n",
       "      <td>None</td>\n",
       "      <td>E142</td>\n",
       "      <td>None</td>\n",
       "      <td>None</td>\n",
       "      <td>None</td>\n",
       "      <td>9</td>\n",
       "      <td>...</td>\n",
       "      <td>-22.315</td>\n",
       "      <td>-49.061</td>\n",
       "      <td>3590</td>\n",
       "      <td>Bauru</td>\n",
       "      <td>BAURU</td>\n",
       "      <td>SAO PAULO</td>\n",
       "      <td>3510</td>\n",
       "      <td>SP</td>\n",
       "      <td>350600</td>\n",
       "      <td>-22.31500,-49.06100</td>\n",
       "    </tr>\n",
       "    <tr>\n",
       "      <th>1</th>\n",
       "      <td>None</td>\n",
       "      <td>None</td>\n",
       "      <td>1.0</td>\n",
       "      <td>None</td>\n",
       "      <td>None</td>\n",
       "      <td>I251</td>\n",
       "      <td>None</td>\n",
       "      <td>None</td>\n",
       "      <td>None</td>\n",
       "      <td>9</td>\n",
       "      <td>...</td>\n",
       "      <td>-22.469</td>\n",
       "      <td>-48.988</td>\n",
       "      <td>3590</td>\n",
       "      <td>Agudos</td>\n",
       "      <td>AGUDOS</td>\n",
       "      <td>SAO PAULO</td>\n",
       "      <td>3510</td>\n",
       "      <td>SP</td>\n",
       "      <td>350070</td>\n",
       "      <td>-22.46900,-48.98800</td>\n",
       "    </tr>\n",
       "    <tr>\n",
       "      <th>2</th>\n",
       "      <td>None</td>\n",
       "      <td>None</td>\n",
       "      <td>2.0</td>\n",
       "      <td>None</td>\n",
       "      <td>None</td>\n",
       "      <td>X959</td>\n",
       "      <td>None</td>\n",
       "      <td>None</td>\n",
       "      <td>None</td>\n",
       "      <td>3</td>\n",
       "      <td>...</td>\n",
       "      <td>-22.315</td>\n",
       "      <td>-49.061</td>\n",
       "      <td>3590</td>\n",
       "      <td>Bauru</td>\n",
       "      <td>BAURU</td>\n",
       "      <td>SAO PAULO</td>\n",
       "      <td>3510</td>\n",
       "      <td>SP</td>\n",
       "      <td>350600</td>\n",
       "      <td>-22.31500,-49.06100</td>\n",
       "    </tr>\n",
       "    <tr>\n",
       "      <th>3</th>\n",
       "      <td>None</td>\n",
       "      <td>None</td>\n",
       "      <td>1.0</td>\n",
       "      <td>None</td>\n",
       "      <td>None</td>\n",
       "      <td>L024</td>\n",
       "      <td>None</td>\n",
       "      <td>None</td>\n",
       "      <td>None</td>\n",
       "      <td>9</td>\n",
       "      <td>...</td>\n",
       "      <td>-23.548</td>\n",
       "      <td>-46.636</td>\n",
       "      <td>3590</td>\n",
       "      <td>São Paulo</td>\n",
       "      <td>SAO PAULO</td>\n",
       "      <td>SAO PAULO</td>\n",
       "      <td>3501</td>\n",
       "      <td>SP</td>\n",
       "      <td>355030</td>\n",
       "      <td>-23.54800,-46.63600</td>\n",
       "    </tr>\n",
       "    <tr>\n",
       "      <th>4</th>\n",
       "      <td>None</td>\n",
       "      <td>None</td>\n",
       "      <td>1.0</td>\n",
       "      <td>None</td>\n",
       "      <td>None</td>\n",
       "      <td>I64</td>\n",
       "      <td>None</td>\n",
       "      <td>None</td>\n",
       "      <td>None</td>\n",
       "      <td>9</td>\n",
       "      <td>...</td>\n",
       "      <td>-23.548</td>\n",
       "      <td>-46.636</td>\n",
       "      <td>3590</td>\n",
       "      <td>São Paulo</td>\n",
       "      <td>SAO PAULO</td>\n",
       "      <td>SAO PAULO</td>\n",
       "      <td>3501</td>\n",
       "      <td>SP</td>\n",
       "      <td>355030</td>\n",
       "      <td>-23.54800,-46.63600</td>\n",
       "    </tr>\n",
       "    <tr>\n",
       "      <th>5</th>\n",
       "      <td>None</td>\n",
       "      <td>None</td>\n",
       "      <td>1.0</td>\n",
       "      <td>None</td>\n",
       "      <td>None</td>\n",
       "      <td>I500</td>\n",
       "      <td>None</td>\n",
       "      <td>None</td>\n",
       "      <td>None</td>\n",
       "      <td>9</td>\n",
       "      <td>...</td>\n",
       "      <td>-23.548</td>\n",
       "      <td>-46.636</td>\n",
       "      <td>3590</td>\n",
       "      <td>São Paulo</td>\n",
       "      <td>SAO PAULO</td>\n",
       "      <td>SAO PAULO</td>\n",
       "      <td>3501</td>\n",
       "      <td>SP</td>\n",
       "      <td>355030</td>\n",
       "      <td>-23.54800,-46.63600</td>\n",
       "    </tr>\n",
       "    <tr>\n",
       "      <th>6</th>\n",
       "      <td>None</td>\n",
       "      <td>None</td>\n",
       "      <td>1.0</td>\n",
       "      <td>None</td>\n",
       "      <td>None</td>\n",
       "      <td>I709</td>\n",
       "      <td>None</td>\n",
       "      <td>None</td>\n",
       "      <td>None</td>\n",
       "      <td>9</td>\n",
       "      <td>...</td>\n",
       "      <td>-23.548</td>\n",
       "      <td>-46.636</td>\n",
       "      <td>3590</td>\n",
       "      <td>São Paulo</td>\n",
       "      <td>SAO PAULO</td>\n",
       "      <td>SAO PAULO</td>\n",
       "      <td>3501</td>\n",
       "      <td>SP</td>\n",
       "      <td>355030</td>\n",
       "      <td>-23.54800,-46.63600</td>\n",
       "    </tr>\n",
       "    <tr>\n",
       "      <th>7</th>\n",
       "      <td>None</td>\n",
       "      <td>None</td>\n",
       "      <td>NaN</td>\n",
       "      <td>None</td>\n",
       "      <td>None</td>\n",
       "      <td>I64</td>\n",
       "      <td>None</td>\n",
       "      <td>None</td>\n",
       "      <td>None</td>\n",
       "      <td>9</td>\n",
       "      <td>...</td>\n",
       "      <td>-23.620</td>\n",
       "      <td>-45.413</td>\n",
       "      <td>3590</td>\n",
       "      <td>Caraguatatuba</td>\n",
       "      <td>CARAGUATATUBA</td>\n",
       "      <td>SAO PAULO</td>\n",
       "      <td>3521</td>\n",
       "      <td>SP</td>\n",
       "      <td>351050</td>\n",
       "      <td>-23.62000,-45.41300</td>\n",
       "    </tr>\n",
       "    <tr>\n",
       "      <th>8</th>\n",
       "      <td>None</td>\n",
       "      <td>None</td>\n",
       "      <td>1.0</td>\n",
       "      <td>None</td>\n",
       "      <td>None</td>\n",
       "      <td>C109</td>\n",
       "      <td>None</td>\n",
       "      <td>None</td>\n",
       "      <td>None</td>\n",
       "      <td>9</td>\n",
       "      <td>...</td>\n",
       "      <td>-23.620</td>\n",
       "      <td>-45.413</td>\n",
       "      <td>3590</td>\n",
       "      <td>Caraguatatuba</td>\n",
       "      <td>CARAGUATATUBA</td>\n",
       "      <td>SAO PAULO</td>\n",
       "      <td>3521</td>\n",
       "      <td>SP</td>\n",
       "      <td>351050</td>\n",
       "      <td>-23.62000,-45.41300</td>\n",
       "    </tr>\n",
       "    <tr>\n",
       "      <th>9</th>\n",
       "      <td>None</td>\n",
       "      <td>None</td>\n",
       "      <td>1.0</td>\n",
       "      <td>None</td>\n",
       "      <td>None</td>\n",
       "      <td>I64</td>\n",
       "      <td>None</td>\n",
       "      <td>None</td>\n",
       "      <td>None</td>\n",
       "      <td>9</td>\n",
       "      <td>...</td>\n",
       "      <td>-23.620</td>\n",
       "      <td>-45.413</td>\n",
       "      <td>3590</td>\n",
       "      <td>Caraguatatuba</td>\n",
       "      <td>CARAGUATATUBA</td>\n",
       "      <td>SAO PAULO</td>\n",
       "      <td>3521</td>\n",
       "      <td>SP</td>\n",
       "      <td>351050</td>\n",
       "      <td>-23.62000,-45.41300</td>\n",
       "    </tr>\n",
       "  </tbody>\n",
       "</table>\n",
       "<p>10 rows × 168 columns</p>\n",
       "</div>"
      ],
      "text/plain": [
       "  ACIDTRAB ALTCAUSA  ASSISTMED ATESTADO ATESTANTE CAUSABAS CAUSABAS_O  \\\n",
       "0     None     None        1.0     None      None     E142       None   \n",
       "1     None     None        1.0     None      None     I251       None   \n",
       "2     None     None        2.0     None      None     X959       None   \n",
       "3     None     None        1.0     None      None     L024       None   \n",
       "4     None     None        1.0     None      None      I64       None   \n",
       "5     None     None        1.0     None      None     I500       None   \n",
       "6     None     None        1.0     None      None     I709       None   \n",
       "7     None     None        NaN     None      None      I64       None   \n",
       "8     None     None        1.0     None      None     C109       None   \n",
       "9     None     None        1.0     None      None      I64       None   \n",
       "\n",
       "  CAUSAMAT CB_PRE  CIRCOBITO         ...           res_LATITUDE res_LONGITUDE  \\\n",
       "0     None   None          9         ...                -22.315       -49.061   \n",
       "1     None   None          9         ...                -22.469       -48.988   \n",
       "2     None   None          3         ...                -22.315       -49.061   \n",
       "3     None   None          9         ...                -23.548       -46.636   \n",
       "4     None   None          9         ...                -23.548       -46.636   \n",
       "5     None   None          9         ...                -23.548       -46.636   \n",
       "6     None   None          9         ...                -23.548       -46.636   \n",
       "7     None   None          9         ...                -23.620       -45.413   \n",
       "8     None   None          9         ...                -23.620       -45.413   \n",
       "9     None   None          9         ...                -23.620       -45.413   \n",
       "\n",
       "  res_MSAUDCOD    res_MUNNOME   res_MUNNOMEX res_NOME_UF  res_RSAUDCOD  \\\n",
       "0         3590          Bauru          BAURU   SAO PAULO          3510   \n",
       "1         3590         Agudos         AGUDOS   SAO PAULO          3510   \n",
       "2         3590          Bauru          BAURU   SAO PAULO          3510   \n",
       "3         3590      São Paulo      SAO PAULO   SAO PAULO          3501   \n",
       "4         3590      São Paulo      SAO PAULO   SAO PAULO          3501   \n",
       "5         3590      São Paulo      SAO PAULO   SAO PAULO          3501   \n",
       "6         3590      São Paulo      SAO PAULO   SAO PAULO          3501   \n",
       "7         3590  Caraguatatuba  CARAGUATATUBA   SAO PAULO          3521   \n",
       "8         3590  Caraguatatuba  CARAGUATATUBA   SAO PAULO          3521   \n",
       "9         3590  Caraguatatuba  CARAGUATATUBA   SAO PAULO          3521   \n",
       "\n",
       "   res_SIGLA_UF res_codigo_adotado      res_coordenadas  \n",
       "0            SP             350600  -22.31500,-49.06100  \n",
       "1            SP             350070  -22.46900,-48.98800  \n",
       "2            SP             350600  -22.31500,-49.06100  \n",
       "3            SP             355030  -23.54800,-46.63600  \n",
       "4            SP             355030  -23.54800,-46.63600  \n",
       "5            SP             355030  -23.54800,-46.63600  \n",
       "6            SP             355030  -23.54800,-46.63600  \n",
       "7            SP             351050  -23.62000,-45.41300  \n",
       "8            SP             351050  -23.62000,-45.41300  \n",
       "9            SP             351050  -23.62000,-45.41300  \n",
       "\n",
       "[10 rows x 168 columns]"
      ]
     },
     "execution_count": 10,
     "metadata": {},
     "output_type": "execute_result"
    }
   ],
   "source": [
    "to_df(res)"
   ]
  },
  {
   "cell_type": "markdown",
   "metadata": {},
   "source": [
    "Nos próximos passos, iremos usar outros resultados da função `search`."
   ]
  },
  {
   "cell_type": "markdown",
   "metadata": {},
   "source": [
    "### Campos específicos"
   ]
  },
  {
   "cell_type": "markdown",
   "metadata": {},
   "source": [
    "Na busca acima, estamos vendo todos os campos que existem no índice, inclusive campos criados pelo próprio ES durante a indexação. Podemos modificar essa consulta e solicitar apenas alguns campos de interesse."
   ]
  },
  {
   "cell_type": "code",
   "execution_count": 11,
   "metadata": {},
   "outputs": [
    {
     "data": {
      "text/html": [
       "<div>\n",
       "<style scoped>\n",
       "    .dataframe tbody tr th:only-of-type {\n",
       "        vertical-align: middle;\n",
       "    }\n",
       "\n",
       "    .dataframe tbody tr th {\n",
       "        vertical-align: top;\n",
       "    }\n",
       "\n",
       "    .dataframe thead th {\n",
       "        text-align: right;\n",
       "    }\n",
       "</style>\n",
       "<table border=\"1\" class=\"dataframe\">\n",
       "  <thead>\n",
       "    <tr style=\"text-align: right;\">\n",
       "      <th></th>\n",
       "      <th>CAUSABAS</th>\n",
       "      <th>causabas_subcategoria</th>\n",
       "      <th>res_MUNNOME</th>\n",
       "      <th>res_SIGLA_UF</th>\n",
       "    </tr>\n",
       "  </thead>\n",
       "  <tbody>\n",
       "    <tr>\n",
       "      <th>0</th>\n",
       "      <td>E142</td>\n",
       "      <td>E14.2 C/compl renais</td>\n",
       "      <td>Bauru</td>\n",
       "      <td>SP</td>\n",
       "    </tr>\n",
       "    <tr>\n",
       "      <th>1</th>\n",
       "      <td>I251</td>\n",
       "      <td>I25.1 Doenc aterosclerotica do coracao</td>\n",
       "      <td>Agudos</td>\n",
       "      <td>SP</td>\n",
       "    </tr>\n",
       "    <tr>\n",
       "      <th>2</th>\n",
       "      <td>X959</td>\n",
       "      <td>X95.9 Local NE</td>\n",
       "      <td>Bauru</td>\n",
       "      <td>SP</td>\n",
       "    </tr>\n",
       "    <tr>\n",
       "      <th>3</th>\n",
       "      <td>L024</td>\n",
       "      <td>L02.4 Abscesso cutaneo furunculo e antraz membros</td>\n",
       "      <td>São Paulo</td>\n",
       "      <td>SP</td>\n",
       "    </tr>\n",
       "    <tr>\n",
       "      <th>4</th>\n",
       "      <td>I64</td>\n",
       "      <td>I64   Acid vasc cerebr NE como hemorrag isquemico</td>\n",
       "      <td>São Paulo</td>\n",
       "      <td>SP</td>\n",
       "    </tr>\n",
       "    <tr>\n",
       "      <th>5</th>\n",
       "      <td>I500</td>\n",
       "      <td>I50.0 Insuf cardiaca congestiva</td>\n",
       "      <td>São Paulo</td>\n",
       "      <td>SP</td>\n",
       "    </tr>\n",
       "    <tr>\n",
       "      <th>6</th>\n",
       "      <td>I709</td>\n",
       "      <td>I70.9 Aterosclerose generalizada e a NE</td>\n",
       "      <td>São Paulo</td>\n",
       "      <td>SP</td>\n",
       "    </tr>\n",
       "    <tr>\n",
       "      <th>7</th>\n",
       "      <td>I64</td>\n",
       "      <td>I64   Acid vasc cerebr NE como hemorrag isquemico</td>\n",
       "      <td>Caraguatatuba</td>\n",
       "      <td>SP</td>\n",
       "    </tr>\n",
       "    <tr>\n",
       "      <th>8</th>\n",
       "      <td>C109</td>\n",
       "      <td>C10.9 Orofaringe NE</td>\n",
       "      <td>Caraguatatuba</td>\n",
       "      <td>SP</td>\n",
       "    </tr>\n",
       "    <tr>\n",
       "      <th>9</th>\n",
       "      <td>I64</td>\n",
       "      <td>I64   Acid vasc cerebr NE como hemorrag isquemico</td>\n",
       "      <td>Caraguatatuba</td>\n",
       "      <td>SP</td>\n",
       "    </tr>\n",
       "  </tbody>\n",
       "</table>\n",
       "</div>"
      ],
      "text/plain": [
       "  CAUSABAS                              causabas_subcategoria    res_MUNNOME  \\\n",
       "0     E142                               E14.2 C/compl renais          Bauru   \n",
       "1     I251             I25.1 Doenc aterosclerotica do coracao         Agudos   \n",
       "2     X959                                     X95.9 Local NE          Bauru   \n",
       "3     L024  L02.4 Abscesso cutaneo furunculo e antraz membros      São Paulo   \n",
       "4      I64  I64   Acid vasc cerebr NE como hemorrag isquemico      São Paulo   \n",
       "5     I500                    I50.0 Insuf cardiaca congestiva      São Paulo   \n",
       "6     I709            I70.9 Aterosclerose generalizada e a NE      São Paulo   \n",
       "7      I64  I64   Acid vasc cerebr NE como hemorrag isquemico  Caraguatatuba   \n",
       "8     C109                                C10.9 Orofaringe NE  Caraguatatuba   \n",
       "9      I64  I64   Acid vasc cerebr NE como hemorrag isquemico  Caraguatatuba   \n",
       "\n",
       "  res_SIGLA_UF  \n",
       "0           SP  \n",
       "1           SP  \n",
       "2           SP  \n",
       "3           SP  \n",
       "4           SP  \n",
       "5           SP  \n",
       "6           SP  \n",
       "7           SP  \n",
       "8           SP  \n",
       "9           SP  "
      ]
     },
     "execution_count": 11,
     "metadata": {},
     "output_type": "execute_result"
    }
   ],
   "source": [
    "campos = '{\"_source\": [\"res_SIGLA_UF\", \"res_MUNNOME\", \"CAUSABAS\", \"causabas_subcategoria\"]}'\n",
    "\n",
    "res = es.search(index = \"datasus-sim-dss\", body = campos)\n",
    "\n",
    "to_df(res).drop(['_index', '_type', '_id', '_score'], axis=1)"
   ]
  },
  {
   "cell_type": "markdown",
   "metadata": {},
   "source": [
    "Observe o argumento `body`. Estamos especificando neste parâmetro quais campos queremos ver. Por padrão o ES sempre retorna os campos de indexação, por isso estamos eliminando essas variáveis através do comando `drop`. Iremos explorar mais o argumento `body` nos próximos passos."
   ]
  },
  {
   "cell_type": "markdown",
   "metadata": {},
   "source": [
    "## Filtrando resultados"
   ]
  },
  {
   "cell_type": "markdown",
   "metadata": {},
   "source": [
    "Podemos pedir na busca que o ES filtre os resultados de acordo com algumas variáveis. Por exemplo, quantas pessoas vieram a óbito por um determinado código CID-10. Para isso, usamos o argumento `q`. Este argumento é comum ao comandos `search` e `count`."
   ]
  },
  {
   "cell_type": "code",
   "execution_count": 12,
   "metadata": {},
   "outputs": [
    {
     "data": {
      "text/plain": [
       "310338"
      ]
     },
     "execution_count": 12,
     "metadata": {},
     "output_type": "execute_result"
    }
   ],
   "source": [
    "es.count(index = \"datasus-sim-dss\", q=\"CAUSABAS:I500\")['count']"
   ]
  },
  {
   "cell_type": "markdown",
   "metadata": {},
   "source": [
    "O que significa este resultado? Considerando todos os registros de todos os anos que estão no índice, 310.338 pessoas vieram a óbito com a causa básica I500 (Insuficiência cardíaca congestiva).\n",
    "\n",
    "Quantas pessoas morreram desta mesma causa básica no ano de 2016?"
   ]
  },
  {
   "cell_type": "code",
   "execution_count": 13,
   "metadata": {},
   "outputs": [
    {
     "data": {
      "text/plain": [
       "13661"
      ]
     },
     "execution_count": 13,
     "metadata": {},
     "output_type": "execute_result"
    }
   ],
   "source": [
    "es.count(index = \"datasus-sim-dss\", q=\"CAUSABAS:I500 AND ano_obito:2016\")['count']"
   ]
  },
  {
   "cell_type": "markdown",
   "metadata": {},
   "source": [
    "Quantas pessoas morreram desta mesma causa básica no ano de 2016 no Rio de Janeiro?"
   ]
  },
  {
   "cell_type": "code",
   "execution_count": 14,
   "metadata": {},
   "outputs": [
    {
     "data": {
      "text/plain": [
       "1323"
      ]
     },
     "execution_count": 14,
     "metadata": {},
     "output_type": "execute_result"
    }
   ],
   "source": [
    "es.count(index = \"datasus-sim-dss\", q=\"CAUSABAS:I500 AND ano_obito:2016 AND res_SIGLA_UF:RJ\")['count']"
   ]
  },
  {
   "cell_type": "markdown",
   "metadata": {},
   "source": [
    "Quantas pessoas morreram desta mesma causa básica no ano de 2016 em Minas Gerais e Rio de Janeiro?"
   ]
  },
  {
   "cell_type": "code",
   "execution_count": 15,
   "metadata": {},
   "outputs": [
    {
     "data": {
      "text/plain": [
       "2945"
      ]
     },
     "execution_count": 15,
     "metadata": {},
     "output_type": "execute_result"
    }
   ],
   "source": [
    "es.count(index = \"datasus-sim-dss\", q=\"CAUSABAS:I500 AND ano_obito:2016 AND (res_SIGLA_UF:RJ OR res_SIGLA_UF:MG)\")['count']"
   ]
  },
  {
   "cell_type": "markdown",
   "metadata": {},
   "source": [
    "Perceba que estamos realizando contagens em mais de 22 milhões registros. Fazer este tipo de contagem em um computador comum poderia durar horas ou dias. Utilizando o ElasticSearch, isso é feito em menos de 1 segundo."
   ]
  },
  {
   "cell_type": "markdown",
   "metadata": {},
   "source": [
    "## Agregando resultados"
   ]
  },
  {
   "cell_type": "markdown",
   "metadata": {},
   "source": [
    "Através de filtros, podemos obter rapidamente algumas contagens, mas se quisermos gerar tabelas mais complexas de contagens, podemos usar uma forma específica para pedir agregações de resultados. \n",
    "\n",
    "Por exemplo, quantas pessoas vieram a óbito por estado? Na forma anterior, teríamos que fazer uma consulta para cada estado. Podemos obter o mesmo resultado especificando uma agregação.\n",
    "\n",
    "Uma agregação para o ES precisa ser escrita seguindo um padrão. Veja abaixo:"
   ]
  },
  {
   "cell_type": "code",
   "execution_count": 16,
   "metadata": {},
   "outputs": [],
   "source": [
    "agg = {\n",
    "    \"size\": 0,\n",
    "    \"aggs\": {\n",
    "        \"UF\": {\n",
    "            \"terms\": {\n",
    "                \"field\": \"res_SIGLA_UF\",\n",
    "                \"size\": 27\n",
    "            }\n",
    "        }\n",
    "    }\n",
    "}"
   ]
  },
  {
   "cell_type": "markdown",
   "metadata": {},
   "source": [
    "Estamos criando um objeto (dicionário) chamado `agg`, que será usado na consulta ao ES. O que significa cada linha desse objeto?\n",
    "* `aggs`: isso declara ao ES que você está requerindo uma agregação, não modifique essa linha;\n",
    "* `UF`: nome da agregação, você pode modificar esse nome;\n",
    "* `terms`: isso declara ao ES que você quer fazer a agregação a partir de uma variável categórica, resultando naa contagem de documentos. Não modifique essa linha;\n",
    "* `field`: esse será o campo que você deseja fazer a agregação, no nosso caso, por sigla de UF. Você pode modificar esta linha para outra variável categórica;\n",
    "* `size`: esse é o limite de resultados da agregação. Como temos 27 estados, podemos especificar o tamanho 27. Se colocarmos um tamanho maior, não irá causar nenhum erro. Se o campo de agregação fosse o nome de municípios, devemos usar um número maior (exemplo: 6.000) para obter os resultados de todos os municípios. O limite deste parâmetro é 10.000.\n",
    "\n",
    "Veja abaixo o resultado desta busca:"
   ]
  },
  {
   "cell_type": "code",
   "execution_count": 17,
   "metadata": {},
   "outputs": [
    {
     "data": {
      "text/html": [
       "<div>\n",
       "<style scoped>\n",
       "    .dataframe tbody tr th:only-of-type {\n",
       "        vertical-align: middle;\n",
       "    }\n",
       "\n",
       "    .dataframe tbody tr th {\n",
       "        vertical-align: top;\n",
       "    }\n",
       "\n",
       "    .dataframe thead th {\n",
       "        text-align: right;\n",
       "    }\n",
       "</style>\n",
       "<table border=\"1\" class=\"dataframe\">\n",
       "  <thead>\n",
       "    <tr style=\"text-align: right;\">\n",
       "      <th></th>\n",
       "      <th>doc_count</th>\n",
       "    </tr>\n",
       "    <tr>\n",
       "      <th>UF</th>\n",
       "      <th></th>\n",
       "    </tr>\n",
       "  </thead>\n",
       "  <tbody>\n",
       "    <tr>\n",
       "      <th>SP</th>\n",
       "      <td>5312966</td>\n",
       "    </tr>\n",
       "    <tr>\n",
       "      <th>RJ</th>\n",
       "      <td>2551434</td>\n",
       "    </tr>\n",
       "    <tr>\n",
       "      <th>MG</th>\n",
       "      <td>2342315</td>\n",
       "    </tr>\n",
       "    <tr>\n",
       "      <th>RS</th>\n",
       "      <td>1559442</td>\n",
       "    </tr>\n",
       "    <tr>\n",
       "      <th>BA</th>\n",
       "      <td>1453919</td>\n",
       "    </tr>\n",
       "    <tr>\n",
       "      <th>PR</th>\n",
       "      <td>1302757</td>\n",
       "    </tr>\n",
       "    <tr>\n",
       "      <th>PE</th>\n",
       "      <td>1145371</td>\n",
       "    </tr>\n",
       "    <tr>\n",
       "      <th>CE</th>\n",
       "      <td>879679</td>\n",
       "    </tr>\n",
       "    <tr>\n",
       "      <th>SC</th>\n",
       "      <td>671381</td>\n",
       "    </tr>\n",
       "    <tr>\n",
       "      <th>GO</th>\n",
       "      <td>614624</td>\n",
       "    </tr>\n",
       "    <tr>\n",
       "      <th>PA</th>\n",
       "      <td>581366</td>\n",
       "    </tr>\n",
       "    <tr>\n",
       "      <th>MA</th>\n",
       "      <td>494277</td>\n",
       "    </tr>\n",
       "    <tr>\n",
       "      <th>PB</th>\n",
       "      <td>453367</td>\n",
       "    </tr>\n",
       "    <tr>\n",
       "      <th>ES</th>\n",
       "      <td>409417</td>\n",
       "    </tr>\n",
       "    <tr>\n",
       "      <th>AL</th>\n",
       "      <td>349934</td>\n",
       "    </tr>\n",
       "    <tr>\n",
       "      <th>RN</th>\n",
       "      <td>324349</td>\n",
       "    </tr>\n",
       "    <tr>\n",
       "      <th>PI</th>\n",
       "      <td>296178</td>\n",
       "    </tr>\n",
       "    <tr>\n",
       "      <th>MT</th>\n",
       "      <td>279559</td>\n",
       "    </tr>\n",
       "    <tr>\n",
       "      <th>MS</th>\n",
       "      <td>274064</td>\n",
       "    </tr>\n",
       "    <tr>\n",
       "      <th>AM</th>\n",
       "      <td>254701</td>\n",
       "    </tr>\n",
       "    <tr>\n",
       "      <th>SE</th>\n",
       "      <td>220049</td>\n",
       "    </tr>\n",
       "    <tr>\n",
       "      <th>DF</th>\n",
       "      <td>209091</td>\n",
       "    </tr>\n",
       "    <tr>\n",
       "      <th>RO</th>\n",
       "      <td>134932</td>\n",
       "    </tr>\n",
       "    <tr>\n",
       "      <th>TO</th>\n",
       "      <td>116339</td>\n",
       "    </tr>\n",
       "    <tr>\n",
       "      <th>AC</th>\n",
       "      <td>59455</td>\n",
       "    </tr>\n",
       "    <tr>\n",
       "      <th>AP</th>\n",
       "      <td>44407</td>\n",
       "    </tr>\n",
       "    <tr>\n",
       "      <th>RR</th>\n",
       "      <td>31487</td>\n",
       "    </tr>\n",
       "  </tbody>\n",
       "</table>\n",
       "</div>"
      ],
      "text/plain": [
       "    doc_count\n",
       "UF           \n",
       "SP    5312966\n",
       "RJ    2551434\n",
       "MG    2342315\n",
       "RS    1559442\n",
       "BA    1453919\n",
       "PR    1302757\n",
       "PE    1145371\n",
       "CE     879679\n",
       "SC     671381\n",
       "GO     614624\n",
       "PA     581366\n",
       "MA     494277\n",
       "PB     453367\n",
       "ES     409417\n",
       "AL     349934\n",
       "RN     324349\n",
       "PI     296178\n",
       "MT     279559\n",
       "MS     274064\n",
       "AM     254701\n",
       "SE     220049\n",
       "DF     209091\n",
       "RO     134932\n",
       "TO     116339\n",
       "AC      59455\n",
       "AP      44407\n",
       "RR      31487"
      ]
     },
     "execution_count": 17,
     "metadata": {},
     "output_type": "execute_result"
    }
   ],
   "source": [
    "res = es.search(index = \"datasus-sim-dss\", body = agg)\n",
    "\n",
    "to_df(res, agg=True)"
   ]
  },
  {
   "cell_type": "markdown",
   "metadata": {},
   "source": [
    "Observe que agora informamos à função `to_df` que os resultados estão agregados para a correta conversão em `dataframe`. O resultado dessa consulta pode ser guardado para uso posterior em análises e elaboração de gráficos."
   ]
  },
  {
   "cell_type": "code",
   "execution_count": 18,
   "metadata": {},
   "outputs": [
    {
     "name": "stdout",
     "output_type": "stream",
     "text": [
      "<class 'pandas.core.frame.DataFrame'>\n",
      "MultiIndex: 27 entries, (SP,) to (RR,)\n",
      "Data columns (total 1 columns):\n",
      "doc_count    27 non-null int64\n",
      "dtypes: int64(1)\n",
      "memory usage: 510.0+ bytes\n"
     ]
    }
   ],
   "source": [
    "df_uf = to_df(res, agg=True)\n",
    "\n",
    "df_uf.info()"
   ]
  },
  {
   "cell_type": "markdown",
   "metadata": {},
   "source": [
    "O comando abaixo retorna um gráfico de barras gerado com base nos dados em `df_uf`."
   ]
  },
  {
   "cell_type": "code",
   "execution_count": 20,
   "metadata": {},
   "outputs": [
    {
     "data": {
      "text/plain": [
       "<matplotlib.axes._subplots.AxesSubplot at 0x7fb41ed710f0>"
      ]
     },
     "execution_count": 20,
     "metadata": {},
     "output_type": "execute_result"
    },
    {
     "data": {
      "text/plain": [
       "<Figure size 432x288 with 0 Axes>"
      ]
     },
     "metadata": {},
     "output_type": "display_data"
    },
    {
     "data": {
      "image/png": "[encoded data removed]",
      "text/plain": [
       "<Figure size 432x288 with 1 Axes>"
      ]
     },
     "metadata": {
      "needs_background": "light"
     },
     "output_type": "display_data"
    }
   ],
   "source": [
    "import matplotlib.pyplot as plt\n",
    "\n",
    "plt.figure()\n",
    "\n",
    "df_uf.plot.bar()"
   ]
  },
  {
   "cell_type": "markdown",
   "metadata": {},
   "source": [
    "### Agregando com filtros"
   ]
  },
  {
   "cell_type": "markdown",
   "metadata": {},
   "source": [
    "Na busca acima, temos o total de óbitos por estado para todos os anos e todas as doenças, sem filtros. Podemos tornar essa busca mais precisa incluindo um filtro."
   ]
  },
  {
   "cell_type": "code",
   "execution_count": 21,
   "metadata": {},
   "outputs": [
    {
     "data": {
      "text/html": [
       "<div>\n",
       "<style scoped>\n",
       "    .dataframe tbody tr th:only-of-type {\n",
       "        vertical-align: middle;\n",
       "    }\n",
       "\n",
       "    .dataframe tbody tr th {\n",
       "        vertical-align: top;\n",
       "    }\n",
       "\n",
       "    .dataframe thead th {\n",
       "        text-align: right;\n",
       "    }\n",
       "</style>\n",
       "<table border=\"1\" class=\"dataframe\">\n",
       "  <thead>\n",
       "    <tr style=\"text-align: right;\">\n",
       "      <th></th>\n",
       "      <th>doc_count</th>\n",
       "    </tr>\n",
       "    <tr>\n",
       "      <th>UF</th>\n",
       "      <th></th>\n",
       "    </tr>\n",
       "  </thead>\n",
       "  <tbody>\n",
       "    <tr>\n",
       "      <th>SP</th>\n",
       "      <td>3336</td>\n",
       "    </tr>\n",
       "    <tr>\n",
       "      <th>MG</th>\n",
       "      <td>1622</td>\n",
       "    </tr>\n",
       "    <tr>\n",
       "      <th>RJ</th>\n",
       "      <td>1323</td>\n",
       "    </tr>\n",
       "    <tr>\n",
       "      <th>PR</th>\n",
       "      <td>1100</td>\n",
       "    </tr>\n",
       "    <tr>\n",
       "      <th>BA</th>\n",
       "      <td>938</td>\n",
       "    </tr>\n",
       "    <tr>\n",
       "      <th>RS</th>\n",
       "      <td>766</td>\n",
       "    </tr>\n",
       "    <tr>\n",
       "      <th>SC</th>\n",
       "      <td>517</td>\n",
       "    </tr>\n",
       "    <tr>\n",
       "      <th>CE</th>\n",
       "      <td>516</td>\n",
       "    </tr>\n",
       "    <tr>\n",
       "      <th>GO</th>\n",
       "      <td>504</td>\n",
       "    </tr>\n",
       "    <tr>\n",
       "      <th>PE</th>\n",
       "      <td>444</td>\n",
       "    </tr>\n",
       "    <tr>\n",
       "      <th>PA</th>\n",
       "      <td>392</td>\n",
       "    </tr>\n",
       "    <tr>\n",
       "      <th>MA</th>\n",
       "      <td>377</td>\n",
       "    </tr>\n",
       "    <tr>\n",
       "      <th>PB</th>\n",
       "      <td>359</td>\n",
       "    </tr>\n",
       "    <tr>\n",
       "      <th>PI</th>\n",
       "      <td>216</td>\n",
       "    </tr>\n",
       "    <tr>\n",
       "      <th>RN</th>\n",
       "      <td>204</td>\n",
       "    </tr>\n",
       "    <tr>\n",
       "      <th>MT</th>\n",
       "      <td>169</td>\n",
       "    </tr>\n",
       "    <tr>\n",
       "      <th>AL</th>\n",
       "      <td>166</td>\n",
       "    </tr>\n",
       "    <tr>\n",
       "      <th>ES</th>\n",
       "      <td>126</td>\n",
       "    </tr>\n",
       "    <tr>\n",
       "      <th>AM</th>\n",
       "      <td>113</td>\n",
       "    </tr>\n",
       "    <tr>\n",
       "      <th>MS</th>\n",
       "      <td>96</td>\n",
       "    </tr>\n",
       "    <tr>\n",
       "      <th>RO</th>\n",
       "      <td>84</td>\n",
       "    </tr>\n",
       "    <tr>\n",
       "      <th>SE</th>\n",
       "      <td>73</td>\n",
       "    </tr>\n",
       "    <tr>\n",
       "      <th>TO</th>\n",
       "      <td>67</td>\n",
       "    </tr>\n",
       "    <tr>\n",
       "      <th>DF</th>\n",
       "      <td>61</td>\n",
       "    </tr>\n",
       "    <tr>\n",
       "      <th>AC</th>\n",
       "      <td>54</td>\n",
       "    </tr>\n",
       "    <tr>\n",
       "      <th>AP</th>\n",
       "      <td>23</td>\n",
       "    </tr>\n",
       "    <tr>\n",
       "      <th>RR</th>\n",
       "      <td>15</td>\n",
       "    </tr>\n",
       "  </tbody>\n",
       "</table>\n",
       "</div>"
      ],
      "text/plain": [
       "    doc_count\n",
       "UF           \n",
       "SP       3336\n",
       "MG       1622\n",
       "RJ       1323\n",
       "PR       1100\n",
       "BA        938\n",
       "RS        766\n",
       "SC        517\n",
       "CE        516\n",
       "GO        504\n",
       "PE        444\n",
       "PA        392\n",
       "MA        377\n",
       "PB        359\n",
       "PI        216\n",
       "RN        204\n",
       "MT        169\n",
       "AL        166\n",
       "ES        126\n",
       "AM        113\n",
       "MS         96\n",
       "RO         84\n",
       "SE         73\n",
       "TO         67\n",
       "DF         61\n",
       "AC         54\n",
       "AP         23\n",
       "RR         15"
      ]
     },
     "execution_count": 21,
     "metadata": {},
     "output_type": "execute_result"
    }
   ],
   "source": [
    "res = es.search(index=\"datasus-sim-dss\", q = \"CAUSABAS:I500 AND ano_obito:2016\",body = agg)\n",
    "\n",
    "to_df(res, agg=True)"
   ]
  },
  {
   "cell_type": "markdown",
   "metadata": {},
   "source": [
    "Agora temos o total de óbitos por estado para o CID I500 no ano de 2016. Note que estamos usando o mesmo objeto de agregação `agg`. O filtro é informado através do parâmetro `q`.\n",
    "\n",
    "Podemos agora fazer a mesma busca, agregando por municípios. Precisamos apenas alterar o objeto `agg` e rodar novamente a busca."
   ]
  },
  {
   "cell_type": "code",
   "execution_count": 22,
   "metadata": {},
   "outputs": [],
   "source": [
    "agg = {\n",
    "    \"size\": 0,\n",
    "    \"aggs\": {\n",
    "        \"Municipio\": {\n",
    "            \"terms\": {\n",
    "                \"field\": \"res_codigo_adotado\",\n",
    "                \"size\": 6000\n",
    "            }\n",
    "        }\n",
    "    }\n",
    "}       "
   ]
  },
  {
   "cell_type": "code",
   "execution_count": 23,
   "metadata": {},
   "outputs": [
    {
     "name": "stdout",
     "output_type": "stream",
     "text": [
      "<class 'pandas.core.frame.DataFrame'>\n",
      "MultiIndex: 3192 entries, (355030,) to (522230,)\n",
      "Data columns (total 1 columns):\n",
      "doc_count    3192 non-null int64\n",
      "dtypes: int64(1)\n",
      "memory usage: 56.2+ KB\n"
     ]
    }
   ],
   "source": [
    "res = es.search(index=\"datasus-sim-dss\", q = \"CAUSABAS:I500 AND ano_obito:2016\",body = agg)\n",
    "\n",
    "to_df(res, agg=True).info()"
   ]
  },
  {
   "cell_type": "markdown",
   "metadata": {},
   "source": [
    "### Agregações mais complexas"
   ]
  },
  {
   "cell_type": "markdown",
   "metadata": {},
   "source": [
    "Essa sintaxe de agregação, apesar de ser facilmente lida, pode ser um pouco complicada para ser escrita devido a quantidade de chaves, aspas e vírgulas necessárias, principalmente em agregações mais complexas. Uma forma interessante de \"escrever\" agregações maiores é utilizar o Kibana. Crie uma visualização do tipo tabela no Kibana e use todos os filtros e agregações que você quiser. Depois, basta copiar e colar a sintaxe criada pelo Kibana em um objeto no Python. \n",
    "\n",
    "Criamos uma agregação um pouco mais complexa através do Kibana, tendo resultados por UF e separando por sexo. Veja abaixo onde fica essa sintaxe no kibana:"
   ]
  },
  {
   "cell_type": "markdown",
   "metadata": {},
   "source": [
    "<img src=\"https://github.com/bigdata-icict/ETL-Dataiku-DSS/raw/master/tutoriais/kibana1.png\">\n",
    "<img src=\"https://github.com/bigdata-icict/ETL-Dataiku-DSS/raw/master/tutoriais/kibana2.png\">"
   ]
  },
  {
   "cell_type": "markdown",
   "metadata": {},
   "source": [
    "Vamos agora usar a sintaxe criada pelo Kibana no Python. É recomendável apenas mudar o nome da agregação. O Kibana nomeia as agregações com números e isso pode não ser intuitivo durante a análise dos resultados. Trocamos os nomes `2` e `3` para `UF` e `Sexo`, respectivamente."
   ]
  },
  {
   "cell_type": "code",
   "execution_count": 24,
   "metadata": {},
   "outputs": [],
   "source": [
    "agg = {\n",
    "  \"size\": 0,\n",
    "  \"_source\": {\n",
    "    \"excludes\": []\n",
    "  },\n",
    "  \"aggs\": {\n",
    "    \"UF\": {\n",
    "      \"terms\": {\n",
    "        \"field\": \"res_SIGLA_UF\",\n",
    "        \"size\": 27,\n",
    "        \"order\": {\n",
    "          \"_count\": \"desc\"\n",
    "        }\n",
    "      },\n",
    "      \"aggs\": {\n",
    "        \"Sexo\": {\n",
    "          \"terms\": {\n",
    "            \"field\": \"def_sexo\",\n",
    "            \"size\": 5,\n",
    "            \"order\": {\n",
    "              \"_count\": \"desc\"\n",
    "            }\n",
    "          }\n",
    "        }\n",
    "      }\n",
    "    }\n",
    "  },\n",
    "  \"stored_fields\": [\n",
    "    \"*\"\n",
    "  ],\n",
    "  \"script_fields\": {},\n",
    "  \"docvalue_fields\": [\n",
    "    \"data_nasc\",\n",
    "    \"data_obito\"\n",
    "  ],\n",
    "  \"query\": {\n",
    "    \"bool\": {\n",
    "      \"must\": [\n",
    "        {\n",
    "          \"match_all\": {}\n",
    "        }\n",
    "      ],\n",
    "      \"filter\": [],\n",
    "      \"should\": [],\n",
    "      \"must_not\": []\n",
    "    }\n",
    "  }\n",
    "}"
   ]
  },
  {
   "cell_type": "code",
   "execution_count": 25,
   "metadata": {},
   "outputs": [
    {
     "data": {
      "text/html": [
       "<div>\n",
       "<style scoped>\n",
       "    .dataframe tbody tr th:only-of-type {\n",
       "        vertical-align: middle;\n",
       "    }\n",
       "\n",
       "    .dataframe tbody tr th {\n",
       "        vertical-align: top;\n",
       "    }\n",
       "\n",
       "    .dataframe thead th {\n",
       "        text-align: right;\n",
       "    }\n",
       "</style>\n",
       "<table border=\"1\" class=\"dataframe\">\n",
       "  <thead>\n",
       "    <tr style=\"text-align: right;\">\n",
       "      <th></th>\n",
       "      <th></th>\n",
       "      <th>doc_count</th>\n",
       "    </tr>\n",
       "    <tr>\n",
       "      <th>UF</th>\n",
       "      <th>Sexo</th>\n",
       "      <th></th>\n",
       "    </tr>\n",
       "  </thead>\n",
       "  <tbody>\n",
       "    <tr>\n",
       "      <th rowspan=\"3\" valign=\"top\">SP</th>\n",
       "      <th>Feminino</th>\n",
       "      <td>1866</td>\n",
       "    </tr>\n",
       "    <tr>\n",
       "      <th>Masculino</th>\n",
       "      <td>1470</td>\n",
       "    </tr>\n",
       "    <tr>\n",
       "      <th>NaN</th>\n",
       "      <td>3336</td>\n",
       "    </tr>\n",
       "    <tr>\n",
       "      <th rowspan=\"3\" valign=\"top\">MG</th>\n",
       "      <th>Feminino</th>\n",
       "      <td>812</td>\n",
       "    </tr>\n",
       "    <tr>\n",
       "      <th>Masculino</th>\n",
       "      <td>810</td>\n",
       "    </tr>\n",
       "    <tr>\n",
       "      <th>NaN</th>\n",
       "      <td>1622</td>\n",
       "    </tr>\n",
       "    <tr>\n",
       "      <th rowspan=\"3\" valign=\"top\">RJ</th>\n",
       "      <th>Feminino</th>\n",
       "      <td>684</td>\n",
       "    </tr>\n",
       "    <tr>\n",
       "      <th>Masculino</th>\n",
       "      <td>639</td>\n",
       "    </tr>\n",
       "    <tr>\n",
       "      <th>NaN</th>\n",
       "      <td>1323</td>\n",
       "    </tr>\n",
       "    <tr>\n",
       "      <th rowspan=\"3\" valign=\"top\">PR</th>\n",
       "      <th>Feminino</th>\n",
       "      <td>596</td>\n",
       "    </tr>\n",
       "    <tr>\n",
       "      <th>Masculino</th>\n",
       "      <td>504</td>\n",
       "    </tr>\n",
       "    <tr>\n",
       "      <th>NaN</th>\n",
       "      <td>1100</td>\n",
       "    </tr>\n",
       "    <tr>\n",
       "      <th rowspan=\"3\" valign=\"top\">BA</th>\n",
       "      <th>Masculino</th>\n",
       "      <td>498</td>\n",
       "    </tr>\n",
       "    <tr>\n",
       "      <th>Feminino</th>\n",
       "      <td>440</td>\n",
       "    </tr>\n",
       "    <tr>\n",
       "      <th>NaN</th>\n",
       "      <td>938</td>\n",
       "    </tr>\n",
       "    <tr>\n",
       "      <th rowspan=\"3\" valign=\"top\">RS</th>\n",
       "      <th>Feminino</th>\n",
       "      <td>434</td>\n",
       "    </tr>\n",
       "    <tr>\n",
       "      <th>Masculino</th>\n",
       "      <td>332</td>\n",
       "    </tr>\n",
       "    <tr>\n",
       "      <th>NaN</th>\n",
       "      <td>766</td>\n",
       "    </tr>\n",
       "    <tr>\n",
       "      <th rowspan=\"3\" valign=\"top\">SC</th>\n",
       "      <th>Feminino</th>\n",
       "      <td>302</td>\n",
       "    </tr>\n",
       "    <tr>\n",
       "      <th>Masculino</th>\n",
       "      <td>215</td>\n",
       "    </tr>\n",
       "    <tr>\n",
       "      <th>NaN</th>\n",
       "      <td>517</td>\n",
       "    </tr>\n",
       "    <tr>\n",
       "      <th rowspan=\"3\" valign=\"top\">CE</th>\n",
       "      <th>Feminino</th>\n",
       "      <td>277</td>\n",
       "    </tr>\n",
       "    <tr>\n",
       "      <th>Masculino</th>\n",
       "      <td>239</td>\n",
       "    </tr>\n",
       "    <tr>\n",
       "      <th>NaN</th>\n",
       "      <td>516</td>\n",
       "    </tr>\n",
       "    <tr>\n",
       "      <th rowspan=\"3\" valign=\"top\">GO</th>\n",
       "      <th>Masculino</th>\n",
       "      <td>269</td>\n",
       "    </tr>\n",
       "    <tr>\n",
       "      <th>Feminino</th>\n",
       "      <td>235</td>\n",
       "    </tr>\n",
       "    <tr>\n",
       "      <th>NaN</th>\n",
       "      <td>504</td>\n",
       "    </tr>\n",
       "    <tr>\n",
       "      <th rowspan=\"3\" valign=\"top\">PE</th>\n",
       "      <th>Masculino</th>\n",
       "      <td>228</td>\n",
       "    </tr>\n",
       "    <tr>\n",
       "      <th>Feminino</th>\n",
       "      <td>216</td>\n",
       "    </tr>\n",
       "    <tr>\n",
       "      <th>NaN</th>\n",
       "      <td>444</td>\n",
       "    </tr>\n",
       "    <tr>\n",
       "      <th>...</th>\n",
       "      <th>...</th>\n",
       "      <td>...</td>\n",
       "    </tr>\n",
       "    <tr>\n",
       "      <th rowspan=\"3\" valign=\"top\">ES</th>\n",
       "      <th>Feminino</th>\n",
       "      <td>68</td>\n",
       "    </tr>\n",
       "    <tr>\n",
       "      <th>Masculino</th>\n",
       "      <td>58</td>\n",
       "    </tr>\n",
       "    <tr>\n",
       "      <th>NaN</th>\n",
       "      <td>126</td>\n",
       "    </tr>\n",
       "    <tr>\n",
       "      <th rowspan=\"3\" valign=\"top\">AM</th>\n",
       "      <th>Masculino</th>\n",
       "      <td>66</td>\n",
       "    </tr>\n",
       "    <tr>\n",
       "      <th>Feminino</th>\n",
       "      <td>47</td>\n",
       "    </tr>\n",
       "    <tr>\n",
       "      <th>NaN</th>\n",
       "      <td>113</td>\n",
       "    </tr>\n",
       "    <tr>\n",
       "      <th rowspan=\"3\" valign=\"top\">MS</th>\n",
       "      <th>Masculino</th>\n",
       "      <td>51</td>\n",
       "    </tr>\n",
       "    <tr>\n",
       "      <th>Feminino</th>\n",
       "      <td>45</td>\n",
       "    </tr>\n",
       "    <tr>\n",
       "      <th>NaN</th>\n",
       "      <td>96</td>\n",
       "    </tr>\n",
       "    <tr>\n",
       "      <th rowspan=\"3\" valign=\"top\">RO</th>\n",
       "      <th>Masculino</th>\n",
       "      <td>48</td>\n",
       "    </tr>\n",
       "    <tr>\n",
       "      <th>Feminino</th>\n",
       "      <td>36</td>\n",
       "    </tr>\n",
       "    <tr>\n",
       "      <th>NaN</th>\n",
       "      <td>84</td>\n",
       "    </tr>\n",
       "    <tr>\n",
       "      <th rowspan=\"3\" valign=\"top\">SE</th>\n",
       "      <th>Masculino</th>\n",
       "      <td>38</td>\n",
       "    </tr>\n",
       "    <tr>\n",
       "      <th>Feminino</th>\n",
       "      <td>35</td>\n",
       "    </tr>\n",
       "    <tr>\n",
       "      <th>NaN</th>\n",
       "      <td>73</td>\n",
       "    </tr>\n",
       "    <tr>\n",
       "      <th rowspan=\"3\" valign=\"top\">TO</th>\n",
       "      <th>Masculino</th>\n",
       "      <td>35</td>\n",
       "    </tr>\n",
       "    <tr>\n",
       "      <th>Feminino</th>\n",
       "      <td>32</td>\n",
       "    </tr>\n",
       "    <tr>\n",
       "      <th>NaN</th>\n",
       "      <td>67</td>\n",
       "    </tr>\n",
       "    <tr>\n",
       "      <th rowspan=\"3\" valign=\"top\">DF</th>\n",
       "      <th>Feminino</th>\n",
       "      <td>35</td>\n",
       "    </tr>\n",
       "    <tr>\n",
       "      <th>Masculino</th>\n",
       "      <td>26</td>\n",
       "    </tr>\n",
       "    <tr>\n",
       "      <th>NaN</th>\n",
       "      <td>61</td>\n",
       "    </tr>\n",
       "    <tr>\n",
       "      <th rowspan=\"3\" valign=\"top\">AC</th>\n",
       "      <th>Masculino</th>\n",
       "      <td>32</td>\n",
       "    </tr>\n",
       "    <tr>\n",
       "      <th>Feminino</th>\n",
       "      <td>22</td>\n",
       "    </tr>\n",
       "    <tr>\n",
       "      <th>NaN</th>\n",
       "      <td>54</td>\n",
       "    </tr>\n",
       "    <tr>\n",
       "      <th rowspan=\"3\" valign=\"top\">AP</th>\n",
       "      <th>Masculino</th>\n",
       "      <td>13</td>\n",
       "    </tr>\n",
       "    <tr>\n",
       "      <th>Feminino</th>\n",
       "      <td>10</td>\n",
       "    </tr>\n",
       "    <tr>\n",
       "      <th>NaN</th>\n",
       "      <td>23</td>\n",
       "    </tr>\n",
       "    <tr>\n",
       "      <th rowspan=\"3\" valign=\"top\">RR</th>\n",
       "      <th>Feminino</th>\n",
       "      <td>8</td>\n",
       "    </tr>\n",
       "    <tr>\n",
       "      <th>Masculino</th>\n",
       "      <td>7</td>\n",
       "    </tr>\n",
       "    <tr>\n",
       "      <th>NaN</th>\n",
       "      <td>15</td>\n",
       "    </tr>\n",
       "  </tbody>\n",
       "</table>\n",
       "<p>81 rows × 1 columns</p>\n",
       "</div>"
      ],
      "text/plain": [
       "              doc_count\n",
       "UF Sexo                \n",
       "SP Feminino        1866\n",
       "   Masculino       1470\n",
       "   NaN             3336\n",
       "MG Feminino         812\n",
       "   Masculino        810\n",
       "   NaN             1622\n",
       "RJ Feminino         684\n",
       "   Masculino        639\n",
       "   NaN             1323\n",
       "PR Feminino         596\n",
       "   Masculino        504\n",
       "   NaN             1100\n",
       "BA Masculino        498\n",
       "   Feminino         440\n",
       "   NaN              938\n",
       "RS Feminino         434\n",
       "   Masculino        332\n",
       "   NaN              766\n",
       "SC Feminino         302\n",
       "   Masculino        215\n",
       "   NaN              517\n",
       "CE Feminino         277\n",
       "   Masculino        239\n",
       "   NaN              516\n",
       "GO Masculino        269\n",
       "   Feminino         235\n",
       "   NaN              504\n",
       "PE Masculino        228\n",
       "   Feminino         216\n",
       "   NaN              444\n",
       "...                 ...\n",
       "ES Feminino          68\n",
       "   Masculino         58\n",
       "   NaN              126\n",
       "AM Masculino         66\n",
       "   Feminino          47\n",
       "   NaN              113\n",
       "MS Masculino         51\n",
       "   Feminino          45\n",
       "   NaN               96\n",
       "RO Masculino         48\n",
       "   Feminino          36\n",
       "   NaN               84\n",
       "SE Masculino         38\n",
       "   Feminino          35\n",
       "   NaN               73\n",
       "TO Masculino         35\n",
       "   Feminino          32\n",
       "   NaN               67\n",
       "DF Feminino          35\n",
       "   Masculino         26\n",
       "   NaN               61\n",
       "AC Masculino         32\n",
       "   Feminino          22\n",
       "   NaN               54\n",
       "AP Masculino         13\n",
       "   Feminino          10\n",
       "   NaN               23\n",
       "RR Feminino           8\n",
       "   Masculino          7\n",
       "   NaN               15\n",
       "\n",
       "[81 rows x 1 columns]"
      ]
     },
     "execution_count": 25,
     "metadata": {},
     "output_type": "execute_result"
    }
   ],
   "source": [
    "res = es.search(index=\"datasus-sim-dss\", q = \"CAUSABAS:I500 AND ano_obito:2016\", body = agg)\n",
    "\n",
    "to_df(res, agg=True)"
   ]
  },
  {
   "cell_type": "markdown",
   "metadata": {
    "toc-hr-collapsed": true
   },
   "source": [
    "__Fim do tutorial__"
   ]
  }
 ],
 "metadata": {
  "kernelspec": {
   "display_name": "Python 3",
   "language": "python",
   "name": "python3"
  },
  "language_info": {
   "codemirror_mode": {
    "name": "ipython",
    "version": 3
   },
   "file_extension": ".py",
   "mimetype": "text/x-python",
   "name": "python",
   "nbconvert_exporter": "python",
   "pygments_lexer": "ipython3",
   "version": "3.6.6"
  },
  "toc-autonumbering": true,
  "toc-showcode": false,
  "toc-showmarkdowntxt": true,
  "toc-showtags": false
 },
 "nbformat": 4,
 "nbformat_minor": 2
}
