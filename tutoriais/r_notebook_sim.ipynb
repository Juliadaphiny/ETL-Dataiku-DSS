{
 "cells": [
  {
   "cell_type": "markdown",
   "metadata": {},
   "source": [
    "<img src=\"img/identidade_visual.png\">"
   ]
  },
  {
   "cell_type": "markdown",
   "metadata": {
    "toc-hr-collapsed": false
   },
   "source": [
    "# Sistema de Informações de Mortalidade - SIM"
   ]
  },
  {
   "cell_type": "markdown",
   "metadata": {},
   "source": [
    "Neste notebook, iremos demonstrar como acessar os dados do SIM indexados pela Plataforma de Ciência de Dados aplicada à Saúde (PCDaS) através do R.\n",
    "\n",
    "Os dados do SIM estão disponíveis em um índice do ElasticSearch (ES), que contém todos os registros individuais das declarações de óbito."
   ]
  },
  {
   "cell_type": "markdown",
   "metadata": {},
   "source": [
    "## Pacotes necessários"
   ]
  },
  {
   "cell_type": "markdown",
   "metadata": {},
   "source": [
    "O acesso ao índice no ES é realizado através do pacote `elastic`. "
   ]
  },
  {
   "cell_type": "code",
   "execution_count": 22,
   "metadata": {},
   "outputs": [],
   "source": [
    "library(elastic)"
   ]
  },
  {
   "cell_type": "markdown",
   "metadata": {},
   "source": [
    "Vamos também utilizar outras bibliotecas do R para facilitar a manipulação dos dados obtidos."
   ]
  },
  {
   "cell_type": "code",
   "execution_count": 23,
   "metadata": {},
   "outputs": [],
   "source": [
    "library(dplyr)"
   ]
  },
  {
   "cell_type": "markdown",
   "metadata": {},
   "source": [
    "## Acesso ao ElasticSearch"
   ]
  },
  {
   "cell_type": "markdown",
   "metadata": {},
   "source": [
    "O primeiro passo é informar ao R os parâmetros de conexão com o índice no ES. Vamos usar a função `connect` da blilioteca `elastic`.\n",
    "\n",
    "Nos parâmetros `es_user` e `es_pwd`, informe o mesmo usuário e senha que você usar para acessar a plataforma.\n",
    "\n",
    "Importante lembrar que esta conexão irá funcionar apenas através de notebooks do `Jupyter` rodando dentro da plataforma."
   ]
  },
  {
   "cell_type": "code",
   "execution_count": 24,
   "metadata": {},
   "outputs": [
    {
     "data": {
      "text/plain": [
       "transport:  http \n",
       "host:       146.134.240.111 \n",
       "port:       9200 \n",
       "path:       NULL \n",
       "username:   raphaelsaldanha \n",
       "password:   <secret> \n",
       "errors:     simple \n",
       "headers (names):  NULL "
      ]
     },
     "metadata": {},
     "output_type": "display_data"
    }
   ],
   "source": [
    "elastic::connect(\n",
    "  es_host = \"146.134.240.111\",\n",
    "  es_port = 9200,\n",
    "  es_transport_schema  = \"http\",\n",
    "  es_user = \"raphaelsaldanha\",\n",
    "  es_pwd = \"boe747400\"\n",
    ")"
   ]
  },
  {
   "cell_type": "markdown",
   "metadata": {},
   "source": [
    "Podemos testar a conexão pedindo algumas informações básicas sobre o ElasticSearch."
   ]
  },
  {
   "cell_type": "code",
   "execution_count": 4,
   "metadata": {},
   "outputs": [
    {
     "data": {
      "text/html": [
       "<dl>\n",
       "\t<dt>$name</dt>\n",
       "\t\t<dd>'elastic1'</dd>\n",
       "\t<dt>$cluster_name</dt>\n",
       "\t\t<dd>'elastic.fiocruz.lncc.br'</dd>\n",
       "\t<dt>$cluster_uuid</dt>\n",
       "\t\t<dd>'RCB_nTLkTeGEKgF7osqmDw'</dd>\n",
       "\t<dt>$version</dt>\n",
       "\t\t<dd><dl>\n",
       "\t<dt>$number</dt>\n",
       "\t\t<dd>'6.3.0'</dd>\n",
       "\t<dt>$build_flavor</dt>\n",
       "\t\t<dd>'default'</dd>\n",
       "\t<dt>$build_type</dt>\n",
       "\t\t<dd>'deb'</dd>\n",
       "\t<dt>$build_hash</dt>\n",
       "\t\t<dd>'424e937'</dd>\n",
       "\t<dt>$build_date</dt>\n",
       "\t\t<dd>'2018-06-11T23:38:03.357887Z'</dd>\n",
       "\t<dt>$build_snapshot</dt>\n",
       "\t\t<dd>FALSE</dd>\n",
       "\t<dt>$lucene_version</dt>\n",
       "\t\t<dd>'7.3.1'</dd>\n",
       "\t<dt>$minimum_wire_compatibility_version</dt>\n",
       "\t\t<dd>'5.6.0'</dd>\n",
       "\t<dt>$minimum_index_compatibility_version</dt>\n",
       "\t\t<dd>'5.0.0'</dd>\n",
       "</dl>\n",
       "</dd>\n",
       "\t<dt>$tagline</dt>\n",
       "\t\t<dd>'You Know, for Search'</dd>\n",
       "</dl>\n"
      ],
      "text/latex": [
       "\\begin{description}\n",
       "\\item[\\$name] 'elastic1'\n",
       "\\item[\\$cluster\\_name] 'elastic.fiocruz.lncc.br'\n",
       "\\item[\\$cluster\\_uuid] 'RCB\\_nTLkTeGEKgF7osqmDw'\n",
       "\\item[\\$version] \\begin{description}\n",
       "\\item[\\$number] '6.3.0'\n",
       "\\item[\\$build\\_flavor] 'default'\n",
       "\\item[\\$build\\_type] 'deb'\n",
       "\\item[\\$build\\_hash] '424e937'\n",
       "\\item[\\$build\\_date] '2018-06-11T23:38:03.357887Z'\n",
       "\\item[\\$build\\_snapshot] FALSE\n",
       "\\item[\\$lucene\\_version] '7.3.1'\n",
       "\\item[\\$minimum\\_wire\\_compatibility\\_version] '5.6.0'\n",
       "\\item[\\$minimum\\_index\\_compatibility\\_version] '5.0.0'\n",
       "\\end{description}\n",
       "\n",
       "\\item[\\$tagline] 'You Know, for Search'\n",
       "\\end{description}\n"
      ],
      "text/markdown": [
       "$name\n",
       ":   'elastic1'\n",
       "$cluster_name\n",
       ":   'elastic.fiocruz.lncc.br'\n",
       "$cluster_uuid\n",
       ":   'RCB_nTLkTeGEKgF7osqmDw'\n",
       "$version\n",
       ":   $number\n",
       ":   '6.3.0'\n",
       "$build_flavor\n",
       ":   'default'\n",
       "$build_type\n",
       ":   'deb'\n",
       "$build_hash\n",
       ":   '424e937'\n",
       "$build_date\n",
       ":   '2018-06-11T23:38:03.357887Z'\n",
       "$build_snapshot\n",
       ":   FALSE\n",
       "$lucene_version\n",
       ":   '7.3.1'\n",
       "$minimum_wire_compatibility_version\n",
       ":   '5.6.0'\n",
       "$minimum_index_compatibility_version\n",
       ":   '5.0.0'\n",
       "\n",
       "\n",
       "\n",
       "$tagline\n",
       ":   'You Know, for Search'\n",
       "\n",
       "\n"
      ],
      "text/plain": [
       "$name\n",
       "[1] \"elastic1\"\n",
       "\n",
       "$cluster_name\n",
       "[1] \"elastic.fiocruz.lncc.br\"\n",
       "\n",
       "$cluster_uuid\n",
       "[1] \"RCB_nTLkTeGEKgF7osqmDw\"\n",
       "\n",
       "$version\n",
       "$version$number\n",
       "[1] \"6.3.0\"\n",
       "\n",
       "$version$build_flavor\n",
       "[1] \"default\"\n",
       "\n",
       "$version$build_type\n",
       "[1] \"deb\"\n",
       "\n",
       "$version$build_hash\n",
       "[1] \"424e937\"\n",
       "\n",
       "$version$build_date\n",
       "[1] \"2018-06-11T23:38:03.357887Z\"\n",
       "\n",
       "$version$build_snapshot\n",
       "[1] FALSE\n",
       "\n",
       "$version$lucene_version\n",
       "[1] \"7.3.1\"\n",
       "\n",
       "$version$minimum_wire_compatibility_version\n",
       "[1] \"5.6.0\"\n",
       "\n",
       "$version$minimum_index_compatibility_version\n",
       "[1] \"5.0.0\"\n",
       "\n",
       "\n",
       "$tagline\n",
       "[1] \"You Know, for Search\"\n"
      ]
     },
     "metadata": {},
     "output_type": "display_data"
    }
   ],
   "source": [
    "elastic::info()"
   ]
  },
  {
   "cell_type": "markdown",
   "metadata": {},
   "source": [
    "Podemos ver acima, por exemplo, que a versão do `ElasticSearch` utilizada atualmente é a 6.3.0."
   ]
  },
  {
   "cell_type": "markdown",
   "metadata": {
    "toc-hr-collapsed": false
   },
   "source": [
    "## Primeiras informações"
   ]
  },
  {
   "cell_type": "markdown",
   "metadata": {},
   "source": [
    "Nos comandos abaixo iremos obter algumas informações básicas do índice do SIM."
   ]
  },
  {
   "cell_type": "markdown",
   "metadata": {},
   "source": [
    "O comando `count` irá dizer quantos registros existem no banco do SIM. No jargão do ElasticSearch, podemos dizer: \"quantos documentos existem no índice\"."
   ]
  },
  {
   "cell_type": "code",
   "execution_count": 5,
   "metadata": {},
   "outputs": [
    {
     "data": {
      "text/html": [
       "22366860"
      ],
      "text/latex": [
       "22366860"
      ],
      "text/markdown": [
       "22366860"
      ],
      "text/plain": [
       "[1] 22366860"
      ]
     },
     "metadata": {},
     "output_type": "display_data"
    }
   ],
   "source": [
    "elastic::count(\"datasus-sim-dss\")"
   ]
  },
  {
   "cell_type": "markdown",
   "metadata": {},
   "source": [
    "O comando `mapping_get` apresenta o mapeamento das variáveis, ou seja, quais variáveis existem no índice e seus tipos. Lembre que as variáveis em letras maiúsculas são originais das declarações de óbito e as variáveis em letras minúsculas foram criadas por nós. Não deixe de conferir o [dicionário de dados](https://bigdata-metadados.icict.fiocruz.br/dataset/sistema-de-informacoes-de-mortalidade-sim) do SIM antes de trabalhar com esses dados."
   ]
  },
  {
   "cell_type": "code",
   "execution_count": 28,
   "metadata": {},
   "outputs": [],
   "source": [
    "mapping <- elastic::mapping_get(index = \"datasus-sim-dss\")"
   ]
  },
  {
   "cell_type": "markdown",
   "metadata": {},
   "source": [
    "## Qual é a cara dos dados?"
   ]
  },
  {
   "cell_type": "markdown",
   "metadata": {},
   "source": [
    "Podemos ver alguns documentos (registros) do índice (banco do SIM) com o comando `Search`. O parâmetro `asdf` solicita que os resultados tenham o formato de tabela.\n",
    "\n",
    "Observe abaixo que estamos acessando uma área específica do resultado retornado pela função, chamada `hits`. Os `hits` são os documentos que atendem a uma busca realizada. Como não especificamos um critério de busca, a função apresenta os primeiros 10 documentos do índice. Isso já é o bastante para termos uma ideia da cara dos dados.\n",
    "\n",
    "Alterando a função podemos requisitar até os 10.000 primeiros resultados. Vamos ver mais a frente que dificilmente iremos precisar mais do que isso, pois iremos trabalhar com agregações."
   ]
  },
  {
   "cell_type": "code",
   "execution_count": 7,
   "metadata": {},
   "outputs": [
    {
     "data": {
      "text/html": [
       "<table>\n",
       "<thead><tr><th scope=col>_index</th><th scope=col>_type</th><th scope=col>_id</th><th scope=col>_score</th><th scope=col>_source.OBITOPUERP</th><th scope=col>_source.DIFDATA</th><th scope=col>_source.ESCMAE</th><th scope=col>_source.VERSAOSIST</th><th scope=col>_source.QTDFILMORT</th><th scope=col>_source.res_MUNNOME</th><th scope=col>⋯</th><th scope=col>_source.def_loc_ocor</th><th scope=col>_source.GESTACAO</th><th scope=col>_source.def_escol</th><th scope=col>_source.ocor_ALTITUDE</th><th scope=col>_source.ocor_CSAUDCOD</th><th scope=col>_source.def_circ_obito</th><th scope=col>_source.def_est_civil</th><th scope=col>_source.idade_obito_horas</th><th scope=col>_source.ASSISTMED</th><th scope=col>_source.NECROPSIA</th></tr></thead>\n",
       "<tbody>\n",
       "\t<tr><td>datasus-sim-dss     </td><td>sim-type            </td><td>Sge3D2cBKV4x6o3cuQAb</td><td>1                   </td><td>NA                  </td><td>NA                  </td><td>9                   </td><td>NA                  </td><td>NA                  </td><td>Bauru               </td><td>⋯                   </td><td>Hospital            </td><td>9                   </td><td>Ignorado            </td><td>526                 </td><td>35900               </td><td>Ignorado            </td><td>Viúvo               </td><td>NA                  </td><td> 1                  </td><td> 2                  </td></tr>\n",
       "\t<tr><td>datasus-sim-dss     </td><td>sim-type            </td><td>Twe3D2cBKV4x6o3cuQAb</td><td>1                   </td><td>NA                  </td><td>NA                  </td><td>9                   </td><td>NA                  </td><td>NA                  </td><td>Agudos              </td><td>⋯                   </td><td>Hospital            </td><td>9                   </td><td>Ignorado            </td><td>526                 </td><td>35900               </td><td>Ignorado            </td><td>Casado              </td><td>NA                  </td><td> 1                  </td><td>NA                  </td></tr>\n",
       "\t<tr><td>datasus-sim-dss     </td><td>sim-type            </td><td>UQe3D2cBKV4x6o3cuQAb</td><td>1                   </td><td>NA                  </td><td>NA                  </td><td>9                   </td><td>NA                  </td><td>NA                  </td><td>Bauru               </td><td>⋯                   </td><td>Via Pública         </td><td>9                   </td><td>Ignorado            </td><td>526                 </td><td>35900               </td><td>Homicídio           </td><td>Solteiro            </td><td>NA                  </td><td> 2                  </td><td> 1                  </td></tr>\n",
       "\t<tr><td>datasus-sim-dss     </td><td>sim-type            </td><td>Vge3D2cBKV4x6o3cuQAb</td><td>1                   </td><td>NA                  </td><td>NA                  </td><td>9                   </td><td>NA                  </td><td>NA                  </td><td>São Paulo           </td><td>⋯                   </td><td>Hospital            </td><td>9                   </td><td>Ignorado            </td><td>760                 </td><td>35900               </td><td>Ignorado            </td><td>Solteiro            </td><td>NA                  </td><td> 1                  </td><td> 2                  </td></tr>\n",
       "\t<tr><td>datasus-sim-dss     </td><td>sim-type            </td><td>Xge3D2cBKV4x6o3cuQAb</td><td>1                   </td><td>NA                  </td><td>NA                  </td><td>9                   </td><td>NA                  </td><td>NA                  </td><td>São Paulo           </td><td>⋯                   </td><td>Hospital            </td><td>9                   </td><td>Ignorado            </td><td>760                 </td><td>35900               </td><td>Ignorado            </td><td>Viúvo               </td><td>NA                  </td><td> 1                  </td><td>NA                  </td></tr>\n",
       "\t<tr><td>datasus-sim-dss     </td><td>sim-type            </td><td>Xwe3D2cBKV4x6o3cuQAb</td><td>1                   </td><td>NA                  </td><td>NA                  </td><td>9                   </td><td>NA                  </td><td>NA                  </td><td>São Paulo           </td><td>⋯                   </td><td>Hospital            </td><td>9                   </td><td>Ignorado            </td><td>760                 </td><td>35900               </td><td>Ignorado            </td><td>Casado              </td><td>NA                  </td><td> 1                  </td><td>NA                  </td></tr>\n",
       "\t<tr><td>datasus-sim-dss     </td><td>sim-type            </td><td>Zwe3D2cBKV4x6o3cuQAb</td><td>1                   </td><td>NA                  </td><td>NA                  </td><td>9                   </td><td>NA                  </td><td>NA                  </td><td>São Paulo           </td><td>⋯                   </td><td>Domicílio           </td><td>9                   </td><td>Ignorado            </td><td>760                 </td><td>35900               </td><td>Ignorado            </td><td>Casado              </td><td>NA                  </td><td> 1                  </td><td>NA                  </td></tr>\n",
       "\t<tr><td>datasus-sim-dss     </td><td>sim-type            </td><td>age3D2cBKV4x6o3cuQAb</td><td>1                   </td><td>NA                  </td><td>NA                  </td><td>9                   </td><td>NA                  </td><td>NA                  </td><td>Caraguatatuba       </td><td>⋯                   </td><td>Hospital            </td><td>9                   </td><td>Ignorado            </td><td>  2                 </td><td>35900               </td><td>Ignorado            </td><td>Casado              </td><td>NA                  </td><td>NA                  </td><td>NA                  </td></tr>\n",
       "\t<tr><td>datasus-sim-dss     </td><td>sim-type            </td><td>bAe3D2cBKV4x6o3cuQAb</td><td>1                   </td><td>NA                  </td><td>NA                  </td><td>9                   </td><td>NA                  </td><td>NA                  </td><td>Caraguatatuba       </td><td>⋯                   </td><td>Domicílio           </td><td>9                   </td><td>Ignorado            </td><td>  2                 </td><td>35900               </td><td>Ignorado            </td><td>Solteiro            </td><td>NA                  </td><td> 1                  </td><td>NA                  </td></tr>\n",
       "\t<tr><td>datasus-sim-dss     </td><td>sim-type            </td><td>cAe3D2cBKV4x6o3cuQAb</td><td>1                   </td><td>NA                  </td><td>NA                  </td><td>9                   </td><td>NA                  </td><td>NA                  </td><td>Caraguatatuba       </td><td>⋯                   </td><td>Hospital            </td><td>9                   </td><td>Ignorado            </td><td>  2                 </td><td>35900               </td><td>Ignorado            </td><td>Viúvo               </td><td>NA                  </td><td> 1                  </td><td> 2                  </td></tr>\n",
       "</tbody>\n",
       "</table>\n"
      ],
      "text/latex": [
       "\\begin{tabular}{r|llllllllllllllllllllllllllllllllllllllllllllllllllllllllllllllllllllllllllllllllllllllllllllllllllllllllllllllllllllllllllllllllllllllllllllllllllllllllllllllllllllllll}\n",
       " \\_index & \\_type & \\_id & \\_score & \\_source.OBITOPUERP & \\_source.DIFDATA & \\_source.ESCMAE & \\_source.VERSAOSIST & \\_source.QTDFILMORT & \\_source.res\\_MUNNOME & ⋯ & \\_source.def\\_loc\\_ocor & \\_source.GESTACAO & \\_source.def\\_escol & \\_source.ocor\\_ALTITUDE & \\_source.ocor\\_CSAUDCOD & \\_source.def\\_circ\\_obito & \\_source.def\\_est\\_civil & \\_source.idade\\_obito\\_horas & \\_source.ASSISTMED & \\_source.NECROPSIA\\\\\n",
       "\\hline\n",
       "\t datasus-sim-dss      & sim-type             & Sge3D2cBKV4x6o3cuQAb & 1                    & NA                   & NA                   & 9                    & NA                   & NA                   & Bauru                & ⋯                    & Hospital             & 9                    & Ignorado             & 526                  & 35900                & Ignorado             & Viúvo                & NA                   &  1                   &  2                  \\\\\n",
       "\t datasus-sim-dss      & sim-type             & Twe3D2cBKV4x6o3cuQAb & 1                    & NA                   & NA                   & 9                    & NA                   & NA                   & Agudos               & ⋯                    & Hospital             & 9                    & Ignorado             & 526                  & 35900                & Ignorado             & Casado               & NA                   &  1                   & NA                  \\\\\n",
       "\t datasus-sim-dss      & sim-type             & UQe3D2cBKV4x6o3cuQAb & 1                    & NA                   & NA                   & 9                    & NA                   & NA                   & Bauru                & ⋯                    & Via Pública          & 9                    & Ignorado             & 526                  & 35900                & Homicídio            & Solteiro             & NA                   &  2                   &  1                  \\\\\n",
       "\t datasus-sim-dss      & sim-type             & Vge3D2cBKV4x6o3cuQAb & 1                    & NA                   & NA                   & 9                    & NA                   & NA                   & São Paulo            & ⋯                    & Hospital             & 9                    & Ignorado             & 760                  & 35900                & Ignorado             & Solteiro             & NA                   &  1                   &  2                  \\\\\n",
       "\t datasus-sim-dss      & sim-type             & Xge3D2cBKV4x6o3cuQAb & 1                    & NA                   & NA                   & 9                    & NA                   & NA                   & São Paulo            & ⋯                    & Hospital             & 9                    & Ignorado             & 760                  & 35900                & Ignorado             & Viúvo                & NA                   &  1                   & NA                  \\\\\n",
       "\t datasus-sim-dss      & sim-type             & Xwe3D2cBKV4x6o3cuQAb & 1                    & NA                   & NA                   & 9                    & NA                   & NA                   & São Paulo            & ⋯                    & Hospital             & 9                    & Ignorado             & 760                  & 35900                & Ignorado             & Casado               & NA                   &  1                   & NA                  \\\\\n",
       "\t datasus-sim-dss      & sim-type             & Zwe3D2cBKV4x6o3cuQAb & 1                    & NA                   & NA                   & 9                    & NA                   & NA                   & São Paulo            & ⋯                    & Domicílio            & 9                    & Ignorado             & 760                  & 35900                & Ignorado             & Casado               & NA                   &  1                   & NA                  \\\\\n",
       "\t datasus-sim-dss      & sim-type             & age3D2cBKV4x6o3cuQAb & 1                    & NA                   & NA                   & 9                    & NA                   & NA                   & Caraguatatuba        & ⋯                    & Hospital             & 9                    & Ignorado             &   2                  & 35900                & Ignorado             & Casado               & NA                   & NA                   & NA                  \\\\\n",
       "\t datasus-sim-dss      & sim-type             & bAe3D2cBKV4x6o3cuQAb & 1                    & NA                   & NA                   & 9                    & NA                   & NA                   & Caraguatatuba        & ⋯                    & Domicílio            & 9                    & Ignorado             &   2                  & 35900                & Ignorado             & Solteiro             & NA                   &  1                   & NA                  \\\\\n",
       "\t datasus-sim-dss      & sim-type             & cAe3D2cBKV4x6o3cuQAb & 1                    & NA                   & NA                   & 9                    & NA                   & NA                   & Caraguatatuba        & ⋯                    & Hospital             & 9                    & Ignorado             &   2                  & 35900                & Ignorado             & Viúvo                & NA                   &  1                   &  2                  \\\\\n",
       "\\end{tabular}\n"
      ],
      "text/markdown": [
       "\n",
       "_index | _type | _id | _score | _source.OBITOPUERP | _source.DIFDATA | _source.ESCMAE | _source.VERSAOSIST | _source.QTDFILMORT | _source.res_MUNNOME | ⋯ | _source.def_loc_ocor | _source.GESTACAO | _source.def_escol | _source.ocor_ALTITUDE | _source.ocor_CSAUDCOD | _source.def_circ_obito | _source.def_est_civil | _source.idade_obito_horas | _source.ASSISTMED | _source.NECROPSIA | \n",
       "|---|---|---|---|---|---|---|---|---|---|\n",
       "| datasus-sim-dss      | sim-type             | Sge3D2cBKV4x6o3cuQAb | 1                    | NA                   | NA                   | 9                    | NA                   | NA                   | Bauru                | ⋯                    | Hospital             | 9                    | Ignorado             | 526                  | 35900                | Ignorado             | Viúvo                | NA                   |  1                   |  2                   | \n",
       "| datasus-sim-dss      | sim-type             | Twe3D2cBKV4x6o3cuQAb | 1                    | NA                   | NA                   | 9                    | NA                   | NA                   | Agudos               | ⋯                    | Hospital             | 9                    | Ignorado             | 526                  | 35900                | Ignorado             | Casado               | NA                   |  1                   | NA                   | \n",
       "| datasus-sim-dss      | sim-type             | UQe3D2cBKV4x6o3cuQAb | 1                    | NA                   | NA                   | 9                    | NA                   | NA                   | Bauru                | ⋯                    | Via Pública          | 9                    | Ignorado             | 526                  | 35900                | Homicídio            | Solteiro             | NA                   |  2                   |  1                   | \n",
       "| datasus-sim-dss      | sim-type             | Vge3D2cBKV4x6o3cuQAb | 1                    | NA                   | NA                   | 9                    | NA                   | NA                   | São Paulo            | ⋯                    | Hospital             | 9                    | Ignorado             | 760                  | 35900                | Ignorado             | Solteiro             | NA                   |  1                   |  2                   | \n",
       "| datasus-sim-dss      | sim-type             | Xge3D2cBKV4x6o3cuQAb | 1                    | NA                   | NA                   | 9                    | NA                   | NA                   | São Paulo            | ⋯                    | Hospital             | 9                    | Ignorado             | 760                  | 35900                | Ignorado             | Viúvo                | NA                   |  1                   | NA                   | \n",
       "| datasus-sim-dss      | sim-type             | Xwe3D2cBKV4x6o3cuQAb | 1                    | NA                   | NA                   | 9                    | NA                   | NA                   | São Paulo            | ⋯                    | Hospital             | 9                    | Ignorado             | 760                  | 35900                | Ignorado             | Casado               | NA                   |  1                   | NA                   | \n",
       "| datasus-sim-dss      | sim-type             | Zwe3D2cBKV4x6o3cuQAb | 1                    | NA                   | NA                   | 9                    | NA                   | NA                   | São Paulo            | ⋯                    | Domicílio            | 9                    | Ignorado             | 760                  | 35900                | Ignorado             | Casado               | NA                   |  1                   | NA                   | \n",
       "| datasus-sim-dss      | sim-type             | age3D2cBKV4x6o3cuQAb | 1                    | NA                   | NA                   | 9                    | NA                   | NA                   | Caraguatatuba        | ⋯                    | Hospital             | 9                    | Ignorado             |   2                  | 35900                | Ignorado             | Casado               | NA                   | NA                   | NA                   | \n",
       "| datasus-sim-dss      | sim-type             | bAe3D2cBKV4x6o3cuQAb | 1                    | NA                   | NA                   | 9                    | NA                   | NA                   | Caraguatatuba        | ⋯                    | Domicílio            | 9                    | Ignorado             |   2                  | 35900                | Ignorado             | Solteiro             | NA                   |  1                   | NA                   | \n",
       "| datasus-sim-dss      | sim-type             | cAe3D2cBKV4x6o3cuQAb | 1                    | NA                   | NA                   | 9                    | NA                   | NA                   | Caraguatatuba        | ⋯                    | Hospital             | 9                    | Ignorado             |   2                  | 35900                | Ignorado             | Viúvo                | NA                   |  1                   |  2                   | \n",
       "\n",
       "\n"
      ],
      "text/plain": [
       "   _index          _type    _id                  _score _source.OBITOPUERP\n",
       "1  datasus-sim-dss sim-type Sge3D2cBKV4x6o3cuQAb 1      NA                \n",
       "2  datasus-sim-dss sim-type Twe3D2cBKV4x6o3cuQAb 1      NA                \n",
       "3  datasus-sim-dss sim-type UQe3D2cBKV4x6o3cuQAb 1      NA                \n",
       "4  datasus-sim-dss sim-type Vge3D2cBKV4x6o3cuQAb 1      NA                \n",
       "5  datasus-sim-dss sim-type Xge3D2cBKV4x6o3cuQAb 1      NA                \n",
       "6  datasus-sim-dss sim-type Xwe3D2cBKV4x6o3cuQAb 1      NA                \n",
       "7  datasus-sim-dss sim-type Zwe3D2cBKV4x6o3cuQAb 1      NA                \n",
       "8  datasus-sim-dss sim-type age3D2cBKV4x6o3cuQAb 1      NA                \n",
       "9  datasus-sim-dss sim-type bAe3D2cBKV4x6o3cuQAb 1      NA                \n",
       "10 datasus-sim-dss sim-type cAe3D2cBKV4x6o3cuQAb 1      NA                \n",
       "   _source.DIFDATA _source.ESCMAE _source.VERSAOSIST _source.QTDFILMORT\n",
       "1  NA              9              NA                 NA                \n",
       "2  NA              9              NA                 NA                \n",
       "3  NA              9              NA                 NA                \n",
       "4  NA              9              NA                 NA                \n",
       "5  NA              9              NA                 NA                \n",
       "6  NA              9              NA                 NA                \n",
       "7  NA              9              NA                 NA                \n",
       "8  NA              9              NA                 NA                \n",
       "9  NA              9              NA                 NA                \n",
       "10 NA              9              NA                 NA                \n",
       "   _source.res_MUNNOME ⋯ _source.def_loc_ocor _source.GESTACAO\n",
       "1  Bauru               ⋯ Hospital             9               \n",
       "2  Agudos              ⋯ Hospital             9               \n",
       "3  Bauru               ⋯ Via Pública          9               \n",
       "4  São Paulo           ⋯ Hospital             9               \n",
       "5  São Paulo           ⋯ Hospital             9               \n",
       "6  São Paulo           ⋯ Hospital             9               \n",
       "7  São Paulo           ⋯ Domicílio            9               \n",
       "8  Caraguatatuba       ⋯ Hospital             9               \n",
       "9  Caraguatatuba       ⋯ Domicílio            9               \n",
       "10 Caraguatatuba       ⋯ Hospital             9               \n",
       "   _source.def_escol _source.ocor_ALTITUDE _source.ocor_CSAUDCOD\n",
       "1  Ignorado          526                   35900                \n",
       "2  Ignorado          526                   35900                \n",
       "3  Ignorado          526                   35900                \n",
       "4  Ignorado          760                   35900                \n",
       "5  Ignorado          760                   35900                \n",
       "6  Ignorado          760                   35900                \n",
       "7  Ignorado          760                   35900                \n",
       "8  Ignorado            2                   35900                \n",
       "9  Ignorado            2                   35900                \n",
       "10 Ignorado            2                   35900                \n",
       "   _source.def_circ_obito _source.def_est_civil _source.idade_obito_horas\n",
       "1  Ignorado               Viúvo                 NA                       \n",
       "2  Ignorado               Casado                NA                       \n",
       "3  Homicídio              Solteiro              NA                       \n",
       "4  Ignorado               Solteiro              NA                       \n",
       "5  Ignorado               Viúvo                 NA                       \n",
       "6  Ignorado               Casado                NA                       \n",
       "7  Ignorado               Casado                NA                       \n",
       "8  Ignorado               Casado                NA                       \n",
       "9  Ignorado               Solteiro              NA                       \n",
       "10 Ignorado               Viúvo                 NA                       \n",
       "   _source.ASSISTMED _source.NECROPSIA\n",
       "1   1                 2               \n",
       "2   1                NA               \n",
       "3   2                 1               \n",
       "4   1                 2               \n",
       "5   1                NA               \n",
       "6   1                NA               \n",
       "7   1                NA               \n",
       "8  NA                NA               \n",
       "9   1                NA               \n",
       "10  1                 2               "
      ]
     },
     "metadata": {},
     "output_type": "display_data"
    }
   ],
   "source": [
    "elastic::Search(\"datasus-sim-dss\", asdf = TRUE)$hits$hits"
   ]
  },
  {
   "cell_type": "markdown",
   "metadata": {},
   "source": [
    "Nos próximos passos, iremos usar outros resultados da função `search`."
   ]
  },
  {
   "cell_type": "markdown",
   "metadata": {},
   "source": [
    "### Campos específicos"
   ]
  },
  {
   "cell_type": "markdown",
   "metadata": {},
   "source": [
    "Na busca acima, estamos vendo todos os campos que existem no índice, inclusive campos criados pelo próprio ES durante a indexação. Podemos modificar essa função e solicitar apenas alguns campos de interesse."
   ]
  },
  {
   "cell_type": "code",
   "execution_count": 8,
   "metadata": {},
   "outputs": [
    {
     "data": {
      "text/html": [
       "<table>\n",
       "<thead><tr><th scope=col>_source.CAUSABAS</th><th scope=col>_source.res_MUNNOME</th><th scope=col>_source.causabas_subcategoria</th><th scope=col>_source.res_SIGLA_UF</th></tr></thead>\n",
       "<tbody>\n",
       "\t<tr><td>E142                                             </td><td>Bauru                                            </td><td>E14.2 C/compl renais                             </td><td>SP                                               </td></tr>\n",
       "\t<tr><td>I251                                             </td><td>Agudos                                           </td><td>I25.1 Doenc aterosclerotica do coracao           </td><td>SP                                               </td></tr>\n",
       "\t<tr><td>X959                                             </td><td>Bauru                                            </td><td>X95.9 Local NE                                   </td><td>SP                                               </td></tr>\n",
       "\t<tr><td>L024                                             </td><td>São Paulo                                        </td><td>L02.4 Abscesso cutaneo furunculo e antraz membros</td><td>SP                                               </td></tr>\n",
       "\t<tr><td>I64                                              </td><td>São Paulo                                        </td><td>I64   Acid vasc cerebr NE como hemorrag isquemico</td><td>SP                                               </td></tr>\n",
       "\t<tr><td>I500                                             </td><td>São Paulo                                        </td><td>I50.0 Insuf cardiaca congestiva                  </td><td>SP                                               </td></tr>\n",
       "</tbody>\n",
       "</table>\n"
      ],
      "text/latex": [
       "\\begin{tabular}{r|llll}\n",
       " \\_source.CAUSABAS & \\_source.res\\_MUNNOME & \\_source.causabas\\_subcategoria & \\_source.res\\_SIGLA\\_UF\\\\\n",
       "\\hline\n",
       "\t E142                                              & Bauru                                             & E14.2 C/compl renais                              & SP                                               \\\\\n",
       "\t I251                                              & Agudos                                            & I25.1 Doenc aterosclerotica do coracao            & SP                                               \\\\\n",
       "\t X959                                              & Bauru                                             & X95.9 Local NE                                    & SP                                               \\\\\n",
       "\t L024                                              & São Paulo                                         & L02.4 Abscesso cutaneo furunculo e antraz membros & SP                                               \\\\\n",
       "\t I64                                               & São Paulo                                         & I64   Acid vasc cerebr NE como hemorrag isquemico & SP                                               \\\\\n",
       "\t I500                                              & São Paulo                                         & I50.0 Insuf cardiaca congestiva                   & SP                                               \\\\\n",
       "\\end{tabular}\n"
      ],
      "text/markdown": [
       "\n",
       "_source.CAUSABAS | _source.res_MUNNOME | _source.causabas_subcategoria | _source.res_SIGLA_UF | \n",
       "|---|---|---|---|---|---|\n",
       "| E142                                              | Bauru                                             | E14.2 C/compl renais                              | SP                                                | \n",
       "| I251                                              | Agudos                                            | I25.1 Doenc aterosclerotica do coracao            | SP                                                | \n",
       "| X959                                              | Bauru                                             | X95.9 Local NE                                    | SP                                                | \n",
       "| L024                                              | São Paulo                                         | L02.4 Abscesso cutaneo furunculo e antraz membros | SP                                                | \n",
       "| I64                                               | São Paulo                                         | I64   Acid vasc cerebr NE como hemorrag isquemico | SP                                                | \n",
       "| I500                                              | São Paulo                                         | I50.0 Insuf cardiaca congestiva                   | SP                                                | \n",
       "\n",
       "\n"
      ],
      "text/plain": [
       "  _source.CAUSABAS _source.res_MUNNOME\n",
       "1 E142             Bauru              \n",
       "2 I251             Agudos             \n",
       "3 X959             Bauru              \n",
       "4 L024             São Paulo          \n",
       "5 I64              São Paulo          \n",
       "6 I500             São Paulo          \n",
       "  _source.causabas_subcategoria                     _source.res_SIGLA_UF\n",
       "1 E14.2 C/compl renais                              SP                  \n",
       "2 I25.1 Doenc aterosclerotica do coracao            SP                  \n",
       "3 X95.9 Local NE                                    SP                  \n",
       "4 L02.4 Abscesso cutaneo furunculo e antraz membros SP                  \n",
       "5 I64   Acid vasc cerebr NE como hemorrag isquemico SP                  \n",
       "6 I50.0 Insuf cardiaca congestiva                   SP                  "
      ]
     },
     "metadata": {},
     "output_type": "display_data"
    }
   ],
   "source": [
    "df <- elastic::Search(index = \"datasus-sim-dss\", \n",
    "       asdf = TRUE,\n",
    "       body = '{\"_source\": [\"res_SIGLA_UF\", \"res_MUNNOME\", \"CAUSABAS\", \"causabas_subcategoria\"]}')$hits$hits %>%\n",
    "    select(-'_index', -'_type', -'_id', -'_score')\n",
    "head(df)"
   ]
  },
  {
   "cell_type": "markdown",
   "metadata": {},
   "source": [
    "Observe o argumento `body`. Estamos especificando neste parâmetro quais campos queremos ver. Por padrão o ES sempre retorna os campos de indexação, por isso estamos eliminando essas variáveis através do comando `select`. Iremos explorar mais este argumento nos próximos passos,"
   ]
  },
  {
   "cell_type": "markdown",
   "metadata": {},
   "source": [
    "## Filtrando resultados"
   ]
  },
  {
   "cell_type": "markdown",
   "metadata": {},
   "source": [
    "Podemos pedir na busca que o ES filtre os resultados de acordo com algumas variáveis. Por exemplo, quantas pessoas vieram a óbito por um determinado código CID-10. Para isso, usamos o argumento `q`. "
   ]
  },
  {
   "cell_type": "code",
   "execution_count": 9,
   "metadata": {},
   "outputs": [
    {
     "data": {
      "text/html": [
       "310338"
      ],
      "text/latex": [
       "310338"
      ],
      "text/markdown": [
       "310338"
      ],
      "text/plain": [
       "[1] 310338"
      ]
     },
     "metadata": {},
     "output_type": "display_data"
    }
   ],
   "source": [
    "elastic::Search(index = \"datasus-sim-dss\", q=\"CAUSABAS:I500\")$hits$total"
   ]
  },
  {
   "cell_type": "markdown",
   "metadata": {},
   "source": [
    "O que significa este resultado? Considerando todos os registros de todos os anos que estão no índice, 310.338 pessoas vieram a óbito com a causa básica I500 (Insuficiência cardíaca congestiva).\n",
    "\n",
    "Repare que neste comando estamos acessando outra parte dos resultados, chamada `total`.\n",
    "\n",
    "Quantas pessoas morreram desta mesma causa básica no ano de 2016?"
   ]
  },
  {
   "cell_type": "code",
   "execution_count": 10,
   "metadata": {},
   "outputs": [
    {
     "data": {
      "text/html": [
       "13661"
      ],
      "text/latex": [
       "13661"
      ],
      "text/markdown": [
       "13661"
      ],
      "text/plain": [
       "[1] 13661"
      ]
     },
     "metadata": {},
     "output_type": "display_data"
    }
   ],
   "source": [
    "elastic::Search(index = \"datasus-sim-dss\", q=\"CAUSABAS:I500 AND ano_obito:2016\")$hits$total"
   ]
  },
  {
   "cell_type": "markdown",
   "metadata": {},
   "source": [
    "Quantas pessoas morreram desta mesma causa básica no ano de 2016 em Minas Gerais?"
   ]
  },
  {
   "cell_type": "code",
   "execution_count": 11,
   "metadata": {},
   "outputs": [
    {
     "data": {
      "text/html": [
       "1323"
      ],
      "text/latex": [
       "1323"
      ],
      "text/markdown": [
       "1323"
      ],
      "text/plain": [
       "[1] 1323"
      ]
     },
     "metadata": {},
     "output_type": "display_data"
    }
   ],
   "source": [
    "elastic::Search(index = \"datasus-sim-dss\", q=\"CAUSABAS:I500 AND ano_obito:2016 AND res_SIGLA_UF:RJ\")$hits$total"
   ]
  },
  {
   "cell_type": "markdown",
   "metadata": {},
   "source": [
    "Quantas pessoas morreram desta mesma causa básica no ano de 2016 em Minas Gerais e Rio de Janeiro?"
   ]
  },
  {
   "cell_type": "code",
   "execution_count": 12,
   "metadata": {},
   "outputs": [
    {
     "data": {
      "text/html": [
       "2945"
      ],
      "text/latex": [
       "2945"
      ],
      "text/markdown": [
       "2945"
      ],
      "text/plain": [
       "[1] 2945"
      ]
     },
     "metadata": {},
     "output_type": "display_data"
    }
   ],
   "source": [
    "elastic::Search(index = \"datasus-sim-dss\", q=\"CAUSABAS:I500 AND ano_obito:2016 AND (res_SIGLA_UF:RJ OR res_SIGLA_UF:MG)\")$hits$total"
   ]
  },
  {
   "cell_type": "markdown",
   "metadata": {},
   "source": [
    "Perceba que estamos realizando contagens em mais de 22 milhões registros. Fazer este tipo de contagem em um computador comum poderia durar horas ou dias. Utilizando o ElasticSearch, isso é feito em menos de 1 segundo."
   ]
  },
  {
   "cell_type": "markdown",
   "metadata": {},
   "source": [
    "## Agregando resultados"
   ]
  },
  {
   "cell_type": "markdown",
   "metadata": {},
   "source": [
    "Através de filtros, podemos obter rapidamente algumas contagens, mas se quisermos gerar tabelas mais complexas de contagens, podemos usar uma forma específica para pedir agregações de resultados. \n",
    "\n",
    "Por exemplo, quantas pessoas vieram a óbito por estado? Na forma anterior, teríamos que fazer uma consulta para cada estado. Podemos obter o mesmo resultado especificando uma agregação.\n",
    "\n",
    "Uma agregação para o ES precisa ser escrita seguindo um padrão. Veja abaixo:"
   ]
  },
  {
   "cell_type": "code",
   "execution_count": 13,
   "metadata": {},
   "outputs": [],
   "source": [
    "agg <- '{\"aggs\": {\n",
    "             \"a1\": {\n",
    "               \"terms\": {\n",
    "                 \"field\": \"res_SIGLA_UF\",\n",
    "                 \"size\": 27\n",
    "               }\n",
    "             }\n",
    "         }\n",
    "        }'"
   ]
  },
  {
   "cell_type": "markdown",
   "metadata": {},
   "source": [
    "Estamos criando um objeto chamado `agg` no R, que será usado na consulta ao ES. O que significa cada linha desse objeto?\n",
    "* `aggs`: isso declara ao ES que você está requerindo uma agregação, não modifique essa linha;\n",
    "* `a1`: nome da agregação, você pode modificar esse nome;\n",
    "* `terms`: isso declara ao ES que você quer fazer a agregação a partir de uma variável categórica, resultando naa contagem de documentos. Não modifique essa linha;\n",
    "* `field`: esse será o campo que você deseja fazer a agregação, no nosso caso, por sigla de UF. Você pode modificar esta linha para outra variável categórica;\n",
    "* `size`: esse é o limite de resultados da agregação. Como temos 27 estados, podemos especificar o tamanho 27. Se colocarmos um tamanho maior, não irá causar nenhum erro. Se o campo de agregação fosse o nome de municípios, devemos usar um número maior (exemplo: 6000) para obter os resultados de todos os municípios. O limite deste parâmetro é 10.000.\n",
    "\n",
    "Veja abaixo o resultado desta busca:"
   ]
  },
  {
   "cell_type": "code",
   "execution_count": 14,
   "metadata": {},
   "outputs": [
    {
     "data": {
      "text/html": [
       "<table>\n",
       "<thead><tr><th scope=col>key</th><th scope=col>doc_count</th></tr></thead>\n",
       "<tbody>\n",
       "\t<tr><td>SP     </td><td>5312966</td></tr>\n",
       "\t<tr><td>RJ     </td><td>2551434</td></tr>\n",
       "\t<tr><td>MG     </td><td>2342315</td></tr>\n",
       "\t<tr><td>RS     </td><td>1559442</td></tr>\n",
       "\t<tr><td>BA     </td><td>1453919</td></tr>\n",
       "\t<tr><td>PR     </td><td>1302757</td></tr>\n",
       "\t<tr><td>PE     </td><td>1145371</td></tr>\n",
       "\t<tr><td>CE     </td><td> 879679</td></tr>\n",
       "\t<tr><td>SC     </td><td> 671381</td></tr>\n",
       "\t<tr><td>GO     </td><td> 614624</td></tr>\n",
       "\t<tr><td>PA     </td><td> 581366</td></tr>\n",
       "\t<tr><td>MA     </td><td> 494277</td></tr>\n",
       "\t<tr><td>PB     </td><td> 453367</td></tr>\n",
       "\t<tr><td>ES     </td><td> 409417</td></tr>\n",
       "\t<tr><td>AL     </td><td> 349934</td></tr>\n",
       "\t<tr><td>RN     </td><td> 324349</td></tr>\n",
       "\t<tr><td>PI     </td><td> 296178</td></tr>\n",
       "\t<tr><td>MT     </td><td> 279559</td></tr>\n",
       "\t<tr><td>MS     </td><td> 274064</td></tr>\n",
       "\t<tr><td>AM     </td><td> 254701</td></tr>\n",
       "\t<tr><td>SE     </td><td> 220049</td></tr>\n",
       "\t<tr><td>DF     </td><td> 209091</td></tr>\n",
       "\t<tr><td>RO     </td><td> 134932</td></tr>\n",
       "\t<tr><td>TO     </td><td> 116339</td></tr>\n",
       "\t<tr><td>AC     </td><td>  59455</td></tr>\n",
       "\t<tr><td>AP     </td><td>  44407</td></tr>\n",
       "\t<tr><td>RR     </td><td>  31487</td></tr>\n",
       "</tbody>\n",
       "</table>\n"
      ],
      "text/latex": [
       "\\begin{tabular}{r|ll}\n",
       " key & doc\\_count\\\\\n",
       "\\hline\n",
       "\t SP      & 5312966\\\\\n",
       "\t RJ      & 2551434\\\\\n",
       "\t MG      & 2342315\\\\\n",
       "\t RS      & 1559442\\\\\n",
       "\t BA      & 1453919\\\\\n",
       "\t PR      & 1302757\\\\\n",
       "\t PE      & 1145371\\\\\n",
       "\t CE      &  879679\\\\\n",
       "\t SC      &  671381\\\\\n",
       "\t GO      &  614624\\\\\n",
       "\t PA      &  581366\\\\\n",
       "\t MA      &  494277\\\\\n",
       "\t PB      &  453367\\\\\n",
       "\t ES      &  409417\\\\\n",
       "\t AL      &  349934\\\\\n",
       "\t RN      &  324349\\\\\n",
       "\t PI      &  296178\\\\\n",
       "\t MT      &  279559\\\\\n",
       "\t MS      &  274064\\\\\n",
       "\t AM      &  254701\\\\\n",
       "\t SE      &  220049\\\\\n",
       "\t DF      &  209091\\\\\n",
       "\t RO      &  134932\\\\\n",
       "\t TO      &  116339\\\\\n",
       "\t AC      &   59455\\\\\n",
       "\t AP      &   44407\\\\\n",
       "\t RR      &   31487\\\\\n",
       "\\end{tabular}\n"
      ],
      "text/markdown": [
       "\n",
       "key | doc_count | \n",
       "|---|---|---|---|---|---|---|---|---|---|---|---|---|---|---|---|---|---|---|---|---|---|---|---|---|---|---|\n",
       "| SP      | 5312966 | \n",
       "| RJ      | 2551434 | \n",
       "| MG      | 2342315 | \n",
       "| RS      | 1559442 | \n",
       "| BA      | 1453919 | \n",
       "| PR      | 1302757 | \n",
       "| PE      | 1145371 | \n",
       "| CE      |  879679 | \n",
       "| SC      |  671381 | \n",
       "| GO      |  614624 | \n",
       "| PA      |  581366 | \n",
       "| MA      |  494277 | \n",
       "| PB      |  453367 | \n",
       "| ES      |  409417 | \n",
       "| AL      |  349934 | \n",
       "| RN      |  324349 | \n",
       "| PI      |  296178 | \n",
       "| MT      |  279559 | \n",
       "| MS      |  274064 | \n",
       "| AM      |  254701 | \n",
       "| SE      |  220049 | \n",
       "| DF      |  209091 | \n",
       "| RO      |  134932 | \n",
       "| TO      |  116339 | \n",
       "| AC      |   59455 | \n",
       "| AP      |   44407 | \n",
       "| RR      |   31487 | \n",
       "\n",
       "\n"
      ],
      "text/plain": [
       "   key doc_count\n",
       "1  SP  5312966  \n",
       "2  RJ  2551434  \n",
       "3  MG  2342315  \n",
       "4  RS  1559442  \n",
       "5  BA  1453919  \n",
       "6  PR  1302757  \n",
       "7  PE  1145371  \n",
       "8  CE   879679  \n",
       "9  SC   671381  \n",
       "10 GO   614624  \n",
       "11 PA   581366  \n",
       "12 MA   494277  \n",
       "13 PB   453367  \n",
       "14 ES   409417  \n",
       "15 AL   349934  \n",
       "16 RN   324349  \n",
       "17 PI   296178  \n",
       "18 MT   279559  \n",
       "19 MS   274064  \n",
       "20 AM   254701  \n",
       "21 SE   220049  \n",
       "22 DF   209091  \n",
       "23 RO   134932  \n",
       "24 TO   116339  \n",
       "25 AC    59455  \n",
       "26 AP    44407  \n",
       "27 RR    31487  "
      ]
     },
     "metadata": {},
     "output_type": "display_data"
    }
   ],
   "source": [
    "elastic::Search(index=\"datasus-sim-dss\", body = agg, asdf = TRUE)$aggregations$a1$buckets"
   ]
  },
  {
   "cell_type": "markdown",
   "metadata": {},
   "source": [
    "O resultado dessa consulta pode ser guardado no R na forma de um `data.frame`, para fazer análises e gráficos."
   ]
  },
  {
   "cell_type": "code",
   "execution_count": 15,
   "metadata": {},
   "outputs": [
    {
     "name": "stdout",
     "output_type": "stream",
     "text": [
      "'data.frame':\t27 obs. of  2 variables:\n",
      " $ key      : chr  \"SP\" \"RJ\" \"MG\" \"RS\" ...\n",
      " $ doc_count: int  5312966 2551434 2342315 1559442 1453919 1302757 1145371 879679 671381 614624 ...\n"
     ]
    }
   ],
   "source": [
    "df <- elastic::Search(index=\"datasus-sim-dss\", body = agg, asdf = TRUE)$aggregations$a1$buckets\n",
    "str(df)"
   ]
  },
  {
   "cell_type": "markdown",
   "metadata": {},
   "source": [
    "Observe também que estamos acessando uma área diferente da busca:\n",
    "\n",
    "`$aggregations$a1$bucket`\n",
    "\n",
    "onde `a1` é o nome da agregação que nós especificamos no objeto `agg`. `bucket` é o local onde ficam os resultados da agregação."
   ]
  },
  {
   "cell_type": "markdown",
   "metadata": {},
   "source": [
    "### Agregando com filtros"
   ]
  },
  {
   "cell_type": "markdown",
   "metadata": {},
   "source": [
    "Na busca acima, temos o total de óbitos por estado para todos os anos e todas as doenças, sem filtros. Podemos tornar essa busca mais precisa incluindo um filtro."
   ]
  },
  {
   "cell_type": "code",
   "execution_count": 16,
   "metadata": {},
   "outputs": [
    {
     "data": {
      "text/html": [
       "<table>\n",
       "<thead><tr><th scope=col>key</th><th scope=col>doc_count</th></tr></thead>\n",
       "<tbody>\n",
       "\t<tr><td>SP  </td><td>3336</td></tr>\n",
       "\t<tr><td>MG  </td><td>1622</td></tr>\n",
       "\t<tr><td>RJ  </td><td>1323</td></tr>\n",
       "\t<tr><td>PR  </td><td>1100</td></tr>\n",
       "\t<tr><td>BA  </td><td> 938</td></tr>\n",
       "\t<tr><td>RS  </td><td> 766</td></tr>\n",
       "\t<tr><td>SC  </td><td> 517</td></tr>\n",
       "\t<tr><td>CE  </td><td> 516</td></tr>\n",
       "\t<tr><td>GO  </td><td> 504</td></tr>\n",
       "\t<tr><td>PE  </td><td> 444</td></tr>\n",
       "\t<tr><td>PA  </td><td> 392</td></tr>\n",
       "\t<tr><td>MA  </td><td> 377</td></tr>\n",
       "\t<tr><td>PB  </td><td> 359</td></tr>\n",
       "\t<tr><td>PI  </td><td> 216</td></tr>\n",
       "\t<tr><td>RN  </td><td> 204</td></tr>\n",
       "\t<tr><td>MT  </td><td> 169</td></tr>\n",
       "\t<tr><td>AL  </td><td> 166</td></tr>\n",
       "\t<tr><td>ES  </td><td> 126</td></tr>\n",
       "\t<tr><td>AM  </td><td> 113</td></tr>\n",
       "\t<tr><td>MS  </td><td>  96</td></tr>\n",
       "\t<tr><td>RO  </td><td>  84</td></tr>\n",
       "\t<tr><td>SE  </td><td>  73</td></tr>\n",
       "\t<tr><td>TO  </td><td>  67</td></tr>\n",
       "\t<tr><td>DF  </td><td>  61</td></tr>\n",
       "\t<tr><td>AC  </td><td>  54</td></tr>\n",
       "\t<tr><td>AP  </td><td>  23</td></tr>\n",
       "\t<tr><td>RR  </td><td>  15</td></tr>\n",
       "</tbody>\n",
       "</table>\n"
      ],
      "text/latex": [
       "\\begin{tabular}{r|ll}\n",
       " key & doc\\_count\\\\\n",
       "\\hline\n",
       "\t SP   & 3336\\\\\n",
       "\t MG   & 1622\\\\\n",
       "\t RJ   & 1323\\\\\n",
       "\t PR   & 1100\\\\\n",
       "\t BA   &  938\\\\\n",
       "\t RS   &  766\\\\\n",
       "\t SC   &  517\\\\\n",
       "\t CE   &  516\\\\\n",
       "\t GO   &  504\\\\\n",
       "\t PE   &  444\\\\\n",
       "\t PA   &  392\\\\\n",
       "\t MA   &  377\\\\\n",
       "\t PB   &  359\\\\\n",
       "\t PI   &  216\\\\\n",
       "\t RN   &  204\\\\\n",
       "\t MT   &  169\\\\\n",
       "\t AL   &  166\\\\\n",
       "\t ES   &  126\\\\\n",
       "\t AM   &  113\\\\\n",
       "\t MS   &   96\\\\\n",
       "\t RO   &   84\\\\\n",
       "\t SE   &   73\\\\\n",
       "\t TO   &   67\\\\\n",
       "\t DF   &   61\\\\\n",
       "\t AC   &   54\\\\\n",
       "\t AP   &   23\\\\\n",
       "\t RR   &   15\\\\\n",
       "\\end{tabular}\n"
      ],
      "text/markdown": [
       "\n",
       "key | doc_count | \n",
       "|---|---|---|---|---|---|---|---|---|---|---|---|---|---|---|---|---|---|---|---|---|---|---|---|---|---|---|\n",
       "| SP   | 3336 | \n",
       "| MG   | 1622 | \n",
       "| RJ   | 1323 | \n",
       "| PR   | 1100 | \n",
       "| BA   |  938 | \n",
       "| RS   |  766 | \n",
       "| SC   |  517 | \n",
       "| CE   |  516 | \n",
       "| GO   |  504 | \n",
       "| PE   |  444 | \n",
       "| PA   |  392 | \n",
       "| MA   |  377 | \n",
       "| PB   |  359 | \n",
       "| PI   |  216 | \n",
       "| RN   |  204 | \n",
       "| MT   |  169 | \n",
       "| AL   |  166 | \n",
       "| ES   |  126 | \n",
       "| AM   |  113 | \n",
       "| MS   |   96 | \n",
       "| RO   |   84 | \n",
       "| SE   |   73 | \n",
       "| TO   |   67 | \n",
       "| DF   |   61 | \n",
       "| AC   |   54 | \n",
       "| AP   |   23 | \n",
       "| RR   |   15 | \n",
       "\n",
       "\n"
      ],
      "text/plain": [
       "   key doc_count\n",
       "1  SP  3336     \n",
       "2  MG  1622     \n",
       "3  RJ  1323     \n",
       "4  PR  1100     \n",
       "5  BA   938     \n",
       "6  RS   766     \n",
       "7  SC   517     \n",
       "8  CE   516     \n",
       "9  GO   504     \n",
       "10 PE   444     \n",
       "11 PA   392     \n",
       "12 MA   377     \n",
       "13 PB   359     \n",
       "14 PI   216     \n",
       "15 RN   204     \n",
       "16 MT   169     \n",
       "17 AL   166     \n",
       "18 ES   126     \n",
       "19 AM   113     \n",
       "20 MS    96     \n",
       "21 RO    84     \n",
       "22 SE    73     \n",
       "23 TO    67     \n",
       "24 DF    61     \n",
       "25 AC    54     \n",
       "26 AP    23     \n",
       "27 RR    15     "
      ]
     },
     "metadata": {},
     "output_type": "display_data"
    }
   ],
   "source": [
    "elastic::Search(index=\"datasus-sim-dss\", q = \"CAUSABAS:I500 AND ano_obito:2016\",body = agg, asdf = TRUE)$aggregations$a1$buckets"
   ]
  },
  {
   "cell_type": "markdown",
   "metadata": {},
   "source": [
    "Agora temos o total de óbitos por estado para o CID I500 no ano de 2016. Note que estamos usando o mesmo objeto de agregação `agg`. O filtro é informado através do parâmetro `q`.\n",
    "\n",
    "Podemos agora fazer a mesma busca, agregando por municípios. Precisamos apenas alterar o objeto `agg` e rodar novamente a busca."
   ]
  },
  {
   "cell_type": "code",
   "execution_count": 17,
   "metadata": {},
   "outputs": [],
   "source": [
    "agg <- '{\"aggs\": {\n",
    "             \"a1\": {\n",
    "               \"terms\": {\n",
    "                 \"field\": \"res_codigo_adotado\",\n",
    "                 \"size\": 6000\n",
    "               }\n",
    "             }\n",
    "         }\n",
    "        }'"
   ]
  },
  {
   "cell_type": "code",
   "execution_count": 18,
   "metadata": {},
   "outputs": [
    {
     "name": "stdout",
     "output_type": "stream",
     "text": [
      "'data.frame':\t3192 obs. of  2 variables:\n",
      " $ key      : chr  \"355030\" \"330455\" \"292740\" \"230440\" ...\n",
      " $ doc_count: int  661 456 91 89 86 85 83 82 80 73 ...\n"
     ]
    }
   ],
   "source": [
    "df <- elastic::Search(index=\"datasus-sim-dss\", q = \"CAUSABAS:I500 AND ano_obito:2016\",body = agg, asdf = TRUE)$aggregations$a1$buckets\n",
    "str(df)"
   ]
  },
  {
   "cell_type": "markdown",
   "metadata": {},
   "source": [
    "### Agregações mais complexas"
   ]
  },
  {
   "cell_type": "markdown",
   "metadata": {},
   "source": [
    "Essa sintaxe de agregação, apesar de ser fácil de ser lida, pode ser um pouco complicada para ser escrita devido a quantidade de chaves, aspas e vírgulas necessárias, principalmente em agregações mais complexas. Uma forma interessante de \"escrever\" agregações maiores é utilizar o Kibana. Crie uma visualização do tipo tabela no Kibana e use todos os filtros e agregações que você quiser. Depois, basta copiar e colar a sintaxe criada pelo Kibana em um objeto no R. \n",
    "\n",
    "Criamos uma agregação um pouco mais complexa através do Kibana, tendo resultados por UF e separando por sexo. Veja abaixo onde fica essa sintaxe no kibana:"
   ]
  },
  {
   "cell_type": "markdown",
   "metadata": {},
   "source": [
    "<img src=\"img/kibana1.png\">\n",
    "<img src=\"img/kibana2.png\">"
   ]
  },
  {
   "cell_type": "markdown",
   "metadata": {},
   "source": [
    "Vamos agora usar a sintaxe criada pelo Kibana no R. É recomendável apenas mudar o nome da agregação. O Kibana nomeia as agregações com números e isso causa alguma dificuldade no R. Trocamos os nomes `2` e `3` para `agg1` e `agg2`, respectivamente."
   ]
  },
  {
   "cell_type": "code",
   "execution_count": 19,
   "metadata": {},
   "outputs": [],
   "source": [
    "agg <- '{\n",
    "  \"size\": 0,\n",
    "  \"_source\": {\n",
    "    \"excludes\": []\n",
    "  },\n",
    "  \"aggs\": {\n",
    "    \"agg1\": {\n",
    "      \"terms\": {\n",
    "        \"field\": \"res_SIGLA_UF\",\n",
    "        \"size\": 27,\n",
    "        \"order\": {\n",
    "          \"_count\": \"desc\"\n",
    "        }\n",
    "      },\n",
    "      \"aggs\": {\n",
    "        \"agg2\": {\n",
    "          \"terms\": {\n",
    "            \"field\": \"def_sexo\",\n",
    "            \"size\": 5,\n",
    "            \"order\": {\n",
    "              \"_count\": \"desc\"\n",
    "            }\n",
    "          }\n",
    "        }\n",
    "      }\n",
    "    }\n",
    "  },\n",
    "  \"stored_fields\": [\n",
    "    \"*\"\n",
    "  ],\n",
    "  \"script_fields\": {},\n",
    "  \"docvalue_fields\": [\n",
    "    \"data_nasc\",\n",
    "    \"data_obito\"\n",
    "  ],\n",
    "  \"query\": {\n",
    "    \"bool\": {\n",
    "      \"must\": [\n",
    "        {\n",
    "          \"match_all\": {}\n",
    "        }\n",
    "      ],\n",
    "      \"filter\": [],\n",
    "      \"should\": [],\n",
    "      \"must_not\": []\n",
    "    }\n",
    "  }\n",
    "}'"
   ]
  },
  {
   "cell_type": "code",
   "execution_count": 20,
   "metadata": {},
   "outputs": [],
   "source": [
    "df <- elastic::Search(index=\"datasus-sim-dss\", q = \"CAUSABAS:I500 AND ano_obito:2016\",body = agg, asdf = TRUE)"
   ]
  },
  {
   "cell_type": "markdown",
   "metadata": {},
   "source": [
    "Você pode usar o código abaixo para obter uma tabela no mesmo formato do Kibana."
   ]
  },
  {
   "cell_type": "code",
   "execution_count": 21,
   "metadata": {},
   "outputs": [
    {
     "data": {
      "text/html": [
       "<table>\n",
       "<thead><tr><th scope=col>UF</th><th scope=col>Feminino</th><th scope=col>Masculino</th></tr></thead>\n",
       "<tbody>\n",
       "\t<tr><td>SP  </td><td>1866</td><td>1470</td></tr>\n",
       "\t<tr><td>MG  </td><td>812 </td><td>810 </td></tr>\n",
       "\t<tr><td>RJ  </td><td>684 </td><td>639 </td></tr>\n",
       "\t<tr><td>PR  </td><td>596 </td><td>504 </td></tr>\n",
       "\t<tr><td>BA  </td><td>498 </td><td>440 </td></tr>\n",
       "\t<tr><td>RS  </td><td>434 </td><td>332 </td></tr>\n",
       "\t<tr><td>SC  </td><td>302 </td><td>215 </td></tr>\n",
       "\t<tr><td>CE  </td><td>277 </td><td>239 </td></tr>\n",
       "\t<tr><td>GO  </td><td>269 </td><td>235 </td></tr>\n",
       "\t<tr><td>PE  </td><td>228 </td><td>216 </td></tr>\n",
       "\t<tr><td>PA  </td><td>215 </td><td>177 </td></tr>\n",
       "\t<tr><td>MA  </td><td>201 </td><td>176 </td></tr>\n",
       "\t<tr><td>PB  </td><td>190 </td><td>169 </td></tr>\n",
       "\t<tr><td>PI  </td><td>120 </td><td>96  </td></tr>\n",
       "\t<tr><td>RN  </td><td>107 </td><td>97  </td></tr>\n",
       "\t<tr><td>MT  </td><td>99  </td><td>70  </td></tr>\n",
       "\t<tr><td>AL  </td><td>85  </td><td>81  </td></tr>\n",
       "\t<tr><td>ES  </td><td>68  </td><td>58  </td></tr>\n",
       "\t<tr><td>AM  </td><td>66  </td><td>47  </td></tr>\n",
       "\t<tr><td>MS  </td><td>51  </td><td>45  </td></tr>\n",
       "\t<tr><td>RO  </td><td>48  </td><td>36  </td></tr>\n",
       "\t<tr><td>SE  </td><td>38  </td><td>35  </td></tr>\n",
       "\t<tr><td>TO  </td><td>35  </td><td>32  </td></tr>\n",
       "\t<tr><td>DF  </td><td>35  </td><td>26  </td></tr>\n",
       "\t<tr><td>AC  </td><td>32  </td><td>22  </td></tr>\n",
       "\t<tr><td>AP  </td><td>13  </td><td>10  </td></tr>\n",
       "\t<tr><td>RR  </td><td>8   </td><td>7   </td></tr>\n",
       "</tbody>\n",
       "</table>\n"
      ],
      "text/latex": [
       "\\begin{tabular}{r|lll}\n",
       " UF & Feminino & Masculino\\\\\n",
       "\\hline\n",
       "\t SP   & 1866 & 1470\\\\\n",
       "\t MG   & 812  & 810 \\\\\n",
       "\t RJ   & 684  & 639 \\\\\n",
       "\t PR   & 596  & 504 \\\\\n",
       "\t BA   & 498  & 440 \\\\\n",
       "\t RS   & 434  & 332 \\\\\n",
       "\t SC   & 302  & 215 \\\\\n",
       "\t CE   & 277  & 239 \\\\\n",
       "\t GO   & 269  & 235 \\\\\n",
       "\t PE   & 228  & 216 \\\\\n",
       "\t PA   & 215  & 177 \\\\\n",
       "\t MA   & 201  & 176 \\\\\n",
       "\t PB   & 190  & 169 \\\\\n",
       "\t PI   & 120  & 96  \\\\\n",
       "\t RN   & 107  & 97  \\\\\n",
       "\t MT   & 99   & 70  \\\\\n",
       "\t AL   & 85   & 81  \\\\\n",
       "\t ES   & 68   & 58  \\\\\n",
       "\t AM   & 66   & 47  \\\\\n",
       "\t MS   & 51   & 45  \\\\\n",
       "\t RO   & 48   & 36  \\\\\n",
       "\t SE   & 38   & 35  \\\\\n",
       "\t TO   & 35   & 32  \\\\\n",
       "\t DF   & 35   & 26  \\\\\n",
       "\t AC   & 32   & 22  \\\\\n",
       "\t AP   & 13   & 10  \\\\\n",
       "\t RR   & 8    & 7   \\\\\n",
       "\\end{tabular}\n"
      ],
      "text/markdown": [
       "\n",
       "UF | Feminino | Masculino | \n",
       "|---|---|---|---|---|---|---|---|---|---|---|---|---|---|---|---|---|---|---|---|---|---|---|---|---|---|---|\n",
       "| SP   | 1866 | 1470 | \n",
       "| MG   | 812  | 810  | \n",
       "| RJ   | 684  | 639  | \n",
       "| PR   | 596  | 504  | \n",
       "| BA   | 498  | 440  | \n",
       "| RS   | 434  | 332  | \n",
       "| SC   | 302  | 215  | \n",
       "| CE   | 277  | 239  | \n",
       "| GO   | 269  | 235  | \n",
       "| PE   | 228  | 216  | \n",
       "| PA   | 215  | 177  | \n",
       "| MA   | 201  | 176  | \n",
       "| PB   | 190  | 169  | \n",
       "| PI   | 120  | 96   | \n",
       "| RN   | 107  | 97   | \n",
       "| MT   | 99   | 70   | \n",
       "| AL   | 85   | 81   | \n",
       "| ES   | 68   | 58   | \n",
       "| AM   | 66   | 47   | \n",
       "| MS   | 51   | 45   | \n",
       "| RO   | 48   | 36   | \n",
       "| SE   | 38   | 35   | \n",
       "| TO   | 35   | 32   | \n",
       "| DF   | 35   | 26   | \n",
       "| AC   | 32   | 22   | \n",
       "| AP   | 13   | 10   | \n",
       "| RR   | 8    | 7    | \n",
       "\n",
       "\n"
      ],
      "text/plain": [
       "   UF Feminino Masculino\n",
       "1  SP 1866     1470     \n",
       "2  MG 812      810      \n",
       "3  RJ 684      639      \n",
       "4  PR 596      504      \n",
       "5  BA 498      440      \n",
       "6  RS 434      332      \n",
       "7  SC 302      215      \n",
       "8  CE 277      239      \n",
       "9  GO 269      235      \n",
       "10 PE 228      216      \n",
       "11 PA 215      177      \n",
       "12 MA 201      176      \n",
       "13 PB 190      169      \n",
       "14 PI 120      96       \n",
       "15 RN 107      97       \n",
       "16 MT 99       70       \n",
       "17 AL 85       81       \n",
       "18 ES 68       58       \n",
       "19 AM 66       47       \n",
       "20 MS 51       45       \n",
       "21 RO 48       36       \n",
       "22 SE 38       35       \n",
       "23 TO 35       32       \n",
       "24 DF 35       26       \n",
       "25 AC 32       22       \n",
       "26 AP 13       10       \n",
       "27 RR 8        7        "
      ]
     },
     "metadata": {},
     "output_type": "display_data"
    }
   ],
   "source": [
    "df2 <- cbind(df$aggregations$agg1$buckets$key, data.frame(matrix(unlist(df$aggregations$agg1$buckets$agg2.buckets), ncol=4, byrow=TRUE))[,3:4])\n",
    "names(df2) <- c(\"UF\", \"Feminino\", \"Masculino\")\n",
    "df2"
   ]
  },
  {
   "cell_type": "code",
   "execution_count": null,
   "metadata": {},
   "outputs": [],
   "source": []
  },
  {
   "cell_type": "code",
   "execution_count": null,
   "metadata": {},
   "outputs": [],
   "source": []
  },
  {
   "cell_type": "code",
   "execution_count": null,
   "metadata": {},
   "outputs": [],
   "source": []
  },
  {
   "cell_type": "code",
   "execution_count": null,
   "metadata": {},
   "outputs": [],
   "source": []
  },
  {
   "cell_type": "code",
   "execution_count": null,
   "metadata": {},
   "outputs": [],
   "source": []
  }
 ],
 "metadata": {
  "kernelspec": {
   "display_name": "R",
   "language": "R",
   "name": "ir"
  },
  "language_info": {
   "codemirror_mode": "r",
   "file_extension": ".r",
   "mimetype": "text/x-r-source",
   "name": "R",
   "pygments_lexer": "r",
   "version": "3.4.1"
  },
  "toc-autonumbering": false,
  "toc-showcode": false,
  "toc-showmarkdowntxt": false,
  "toc-showtags": false
 },
 "nbformat": 4,
 "nbformat_minor": 2
}
